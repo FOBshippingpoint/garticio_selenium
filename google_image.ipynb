{
 "cells": [
  {
   "cell_type": "code",
   "execution_count": 10,
   "metadata": {},
   "outputs": [
    {
     "name": "stdout",
     "output_type": "stream",
     "text": [
      "\n"
     ]
    },
    {
     "name": "stderr",
     "output_type": "stream",
     "text": [
      "[WDM] - ====== WebDriver manager ======\n",
      "[WDM] - Current google-chrome version is 102.0.5005\n",
      "[WDM] - Get LATEST chromedriver version for 102.0.5005 google-chrome\n",
      "[WDM] - Driver [C:\\Users\\Asus\\.wdm\\drivers\\chromedriver\\win32\\102.0.5005.61\\chromedriver.exe] found in cache\n",
      "C:\\Users\\Asus\\AppData\\Local\\Temp\\ipykernel_32548\\3000316686.py:16: DeprecationWarning: executable_path has been deprecated, please pass in a Service object\n",
      "  driver = webdriver.Chrome(ChromeDriverManager().install(), options=options)\n"
     ]
    },
    {
     "name": "stdout",
     "output_type": "stream",
     "text": [
      "Chrome Browser Invoked\n"
     ]
    }
   ],
   "source": [
    "# 啟動 Chrome 必須先下載 Chrome 驅動器(https://sites.google.com/chromium.org/driver/)\n",
    "# 將 Chrome 驅動器放置同路徑下，或設定於系統環境變數中的 Path\n",
    "from webdriver_manager.chrome import ChromeDriverManager\n",
    "from selenium.webdriver.chrome.options import Options\n",
    "from selenium import webdriver\n",
    "from selenium.webdriver.common.action_chains import ActionChains\n",
    "from selenium.webdriver.common.keys import Keys\n",
    "from selenium.webdriver.support.ui import WebDriverWait\n",
    "from selenium.webdriver.common.by import By\n",
    "from selenium.webdriver.support import expected_conditions as EC\n",
    "from base64 import b64decode\n",
    "from bs4 import BeautifulSoup\n",
    "\n",
    "options = Options()\n",
    "options.add_extension(\"uBlock-Origin.crx\")\n",
    "driver = webdriver.Chrome(ChromeDriverManager().install(), options=options)\n",
    "\n",
    "print(\"Chrome Browser Invoked\")"
   ]
  },
  {
   "cell_type": "code",
   "execution_count": 12,
   "metadata": {},
   "outputs": [
    {
     "ename": "WebDriverException",
     "evalue": "Message: chrome not reachable\n  (Session info: chrome=102.0.5005.115)\nStacktrace:\nBacktrace:\n\tOrdinal0 [0x00C9D953+2414931]\n\tOrdinal0 [0x00C2F5E1+1963489]\n\tOrdinal0 [0x00B1C580+836992]\n\tOrdinal0 [0x00B101E2+786914]\n\tOrdinal0 [0x00B10A18+789016]\n\tOrdinal0 [0x00B122F2+795378]\n\tOrdinal0 [0x00B0BCA9+769193]\n\tOrdinal0 [0x00B1DA30+842288]\n\tOrdinal0 [0x00B73FF2+1196018]\n\tOrdinal0 [0x00B642B6+1131190]\n\tOrdinal0 [0x00B3E860+976992]\n\tOrdinal0 [0x00B3F756+980822]\n\tGetHandleVerifier [0x00F0CC62+2510274]\n\tGetHandleVerifier [0x00EFF760+2455744]\n\tGetHandleVerifier [0x00D2EABA+551962]\n\tGetHandleVerifier [0x00D2D916+547446]\n\tOrdinal0 [0x00C35F3B+1990459]\n\tOrdinal0 [0x00C3A898+2009240]\n\tOrdinal0 [0x00C3A985+2009477]\n\tOrdinal0 [0x00C43AD1+2046673]\n\tBaseThreadInitThunk [0x76106739+25]\n\tRtlGetFullPathName_UEx [0x77D48FEF+1215]\n\tRtlGetFullPathName_UEx [0x77D48FBD+1165]\n",
     "output_type": "error",
     "traceback": [
      "\u001b[1;31m---------------------------------------------------------------------------\u001b[0m",
      "\u001b[1;31mWebDriverException\u001b[0m                        Traceback (most recent call last)",
      "\u001b[1;32md:\\workspace\\py\\garticio_selenium\\google_image.ipynb Cell 2'\u001b[0m in \u001b[0;36m<cell line: 6>\u001b[1;34m()\u001b[0m\n\u001b[0;32m      <a href='vscode-notebook-cell:/d%3A/workspace/py/garticio_selenium/google_image.ipynb#ch0000000?line=1'>2</a>\u001b[0m google_image_url \u001b[39m=\u001b[39m (\n\u001b[0;32m      <a href='vscode-notebook-cell:/d%3A/workspace/py/garticio_selenium/google_image.ipynb#ch0000000?line=2'>3</a>\u001b[0m     \u001b[39m\"\u001b[39m\u001b[39mhttps://images.google.com\u001b[39m\u001b[39m\"\u001b[39m  \u001b[39m# step1: setup url1 you want to visit in new page\u001b[39;00m\n\u001b[0;32m      <a href='vscode-notebook-cell:/d%3A/workspace/py/garticio_selenium/google_image.ipynb#ch0000000?line=3'>4</a>\u001b[0m )\n\u001b[0;32m      <a href='vscode-notebook-cell:/d%3A/workspace/py/garticio_selenium/google_image.ipynb#ch0000000?line=4'>5</a>\u001b[0m strScript \u001b[39m=\u001b[39m \u001b[39m'\u001b[39m\u001b[39mwindow.open(\u001b[39m\u001b[39m\"\u001b[39m\u001b[39m'\u001b[39m \u001b[39m+\u001b[39m google_image_url \u001b[39m+\u001b[39m \u001b[39m'\u001b[39m\u001b[39m\"\u001b[39m\u001b[39m);\u001b[39m\u001b[39m'\u001b[39m\n\u001b[1;32m----> <a href='vscode-notebook-cell:/d%3A/workspace/py/garticio_selenium/google_image.ipynb#ch0000000?line=5'>6</a>\u001b[0m driver\u001b[39m.\u001b[39;49mexecute_script(strScript)\n\u001b[0;32m      <a href='vscode-notebook-cell:/d%3A/workspace/py/garticio_selenium/google_image.ipynb#ch0000000?line=6'>7</a>\u001b[0m driver\u001b[39m.\u001b[39mswitch_to\u001b[39m.\u001b[39mwindow(driver\u001b[39m.\u001b[39mwindow_handles[\u001b[39m1\u001b[39m])\n\u001b[0;32m      <a href='vscode-notebook-cell:/d%3A/workspace/py/garticio_selenium/google_image.ipynb#ch0000000?line=7'>8</a>\u001b[0m driver\u001b[39m.\u001b[39mfind_element_by_class_name(\u001b[39m\"\u001b[39m\u001b[39mgLFyf.gsfi\u001b[39m\u001b[39m\"\u001b[39m)\u001b[39m.\u001b[39msend_keys(\u001b[39m'\u001b[39m\u001b[39mcat\u001b[39m\u001b[39m'\u001b[39m)\n",
      "File \u001b[1;32md:\\workspace\\py\\garticio_selenium\\venv\\lib\\site-packages\\selenium\\webdriver\\remote\\webdriver.py:884\u001b[0m, in \u001b[0;36mWebDriver.execute_script\u001b[1;34m(self, script, *args)\u001b[0m\n\u001b[0;32m    <a href='file:///d%3A/workspace/py/garticio_selenium/venv/lib/site-packages/selenium/webdriver/remote/webdriver.py?line=880'>881</a>\u001b[0m converted_args \u001b[39m=\u001b[39m \u001b[39mlist\u001b[39m(args)\n\u001b[0;32m    <a href='file:///d%3A/workspace/py/garticio_selenium/venv/lib/site-packages/selenium/webdriver/remote/webdriver.py?line=881'>882</a>\u001b[0m command \u001b[39m=\u001b[39m Command\u001b[39m.\u001b[39mW3C_EXECUTE_SCRIPT\n\u001b[1;32m--> <a href='file:///d%3A/workspace/py/garticio_selenium/venv/lib/site-packages/selenium/webdriver/remote/webdriver.py?line=883'>884</a>\u001b[0m \u001b[39mreturn\u001b[39;00m \u001b[39mself\u001b[39;49m\u001b[39m.\u001b[39;49mexecute(command, {\n\u001b[0;32m    <a href='file:///d%3A/workspace/py/garticio_selenium/venv/lib/site-packages/selenium/webdriver/remote/webdriver.py?line=884'>885</a>\u001b[0m     \u001b[39m'\u001b[39;49m\u001b[39mscript\u001b[39;49m\u001b[39m'\u001b[39;49m: script,\n\u001b[0;32m    <a href='file:///d%3A/workspace/py/garticio_selenium/venv/lib/site-packages/selenium/webdriver/remote/webdriver.py?line=885'>886</a>\u001b[0m     \u001b[39m'\u001b[39;49m\u001b[39margs\u001b[39;49m\u001b[39m'\u001b[39;49m: converted_args})[\u001b[39m'\u001b[39m\u001b[39mvalue\u001b[39m\u001b[39m'\u001b[39m]\n",
      "File \u001b[1;32md:\\workspace\\py\\garticio_selenium\\venv\\lib\\site-packages\\selenium\\webdriver\\remote\\webdriver.py:430\u001b[0m, in \u001b[0;36mWebDriver.execute\u001b[1;34m(self, driver_command, params)\u001b[0m\n\u001b[0;32m    <a href='file:///d%3A/workspace/py/garticio_selenium/venv/lib/site-packages/selenium/webdriver/remote/webdriver.py?line=427'>428</a>\u001b[0m response \u001b[39m=\u001b[39m \u001b[39mself\u001b[39m\u001b[39m.\u001b[39mcommand_executor\u001b[39m.\u001b[39mexecute(driver_command, params)\n\u001b[0;32m    <a href='file:///d%3A/workspace/py/garticio_selenium/venv/lib/site-packages/selenium/webdriver/remote/webdriver.py?line=428'>429</a>\u001b[0m \u001b[39mif\u001b[39;00m response:\n\u001b[1;32m--> <a href='file:///d%3A/workspace/py/garticio_selenium/venv/lib/site-packages/selenium/webdriver/remote/webdriver.py?line=429'>430</a>\u001b[0m     \u001b[39mself\u001b[39;49m\u001b[39m.\u001b[39;49merror_handler\u001b[39m.\u001b[39;49mcheck_response(response)\n\u001b[0;32m    <a href='file:///d%3A/workspace/py/garticio_selenium/venv/lib/site-packages/selenium/webdriver/remote/webdriver.py?line=430'>431</a>\u001b[0m     response[\u001b[39m'\u001b[39m\u001b[39mvalue\u001b[39m\u001b[39m'\u001b[39m] \u001b[39m=\u001b[39m \u001b[39mself\u001b[39m\u001b[39m.\u001b[39m_unwrap_value(\n\u001b[0;32m    <a href='file:///d%3A/workspace/py/garticio_selenium/venv/lib/site-packages/selenium/webdriver/remote/webdriver.py?line=431'>432</a>\u001b[0m         response\u001b[39m.\u001b[39mget(\u001b[39m'\u001b[39m\u001b[39mvalue\u001b[39m\u001b[39m'\u001b[39m, \u001b[39mNone\u001b[39;00m))\n\u001b[0;32m    <a href='file:///d%3A/workspace/py/garticio_selenium/venv/lib/site-packages/selenium/webdriver/remote/webdriver.py?line=432'>433</a>\u001b[0m     \u001b[39mreturn\u001b[39;00m response\n",
      "File \u001b[1;32md:\\workspace\\py\\garticio_selenium\\venv\\lib\\site-packages\\selenium\\webdriver\\remote\\errorhandler.py:247\u001b[0m, in \u001b[0;36mErrorHandler.check_response\u001b[1;34m(self, response)\u001b[0m\n\u001b[0;32m    <a href='file:///d%3A/workspace/py/garticio_selenium/venv/lib/site-packages/selenium/webdriver/remote/errorhandler.py?line=244'>245</a>\u001b[0m         alert_text \u001b[39m=\u001b[39m value[\u001b[39m'\u001b[39m\u001b[39malert\u001b[39m\u001b[39m'\u001b[39m]\u001b[39m.\u001b[39mget(\u001b[39m'\u001b[39m\u001b[39mtext\u001b[39m\u001b[39m'\u001b[39m)\n\u001b[0;32m    <a href='file:///d%3A/workspace/py/garticio_selenium/venv/lib/site-packages/selenium/webdriver/remote/errorhandler.py?line=245'>246</a>\u001b[0m     \u001b[39mraise\u001b[39;00m exception_class(message, screen, stacktrace, alert_text)  \u001b[39m# type: ignore[call-arg]  # mypy is not smart enough here\u001b[39;00m\n\u001b[1;32m--> <a href='file:///d%3A/workspace/py/garticio_selenium/venv/lib/site-packages/selenium/webdriver/remote/errorhandler.py?line=246'>247</a>\u001b[0m \u001b[39mraise\u001b[39;00m exception_class(message, screen, stacktrace)\n",
      "\u001b[1;31mWebDriverException\u001b[0m: Message: chrome not reachable\n  (Session info: chrome=102.0.5005.115)\nStacktrace:\nBacktrace:\n\tOrdinal0 [0x00C9D953+2414931]\n\tOrdinal0 [0x00C2F5E1+1963489]\n\tOrdinal0 [0x00B1C580+836992]\n\tOrdinal0 [0x00B101E2+786914]\n\tOrdinal0 [0x00B10A18+789016]\n\tOrdinal0 [0x00B122F2+795378]\n\tOrdinal0 [0x00B0BCA9+769193]\n\tOrdinal0 [0x00B1DA30+842288]\n\tOrdinal0 [0x00B73FF2+1196018]\n\tOrdinal0 [0x00B642B6+1131190]\n\tOrdinal0 [0x00B3E860+976992]\n\tOrdinal0 [0x00B3F756+980822]\n\tGetHandleVerifier [0x00F0CC62+2510274]\n\tGetHandleVerifier [0x00EFF760+2455744]\n\tGetHandleVerifier [0x00D2EABA+551962]\n\tGetHandleVerifier [0x00D2D916+547446]\n\tOrdinal0 [0x00C35F3B+1990459]\n\tOrdinal0 [0x00C3A898+2009240]\n\tOrdinal0 [0x00C3A985+2009477]\n\tOrdinal0 [0x00C43AD1+2046673]\n\tBaseThreadInitThunk [0x76106739+25]\n\tRtlGetFullPathName_UEx [0x77D48FEF+1215]\n\tRtlGetFullPathName_UEx [0x77D48FBD+1165]\n"
     ]
    }
   ],
   "source": [
    "# 開啟新分頁(圖片搜尋頁面)\n",
    "google_image_url = (\n",
    "    \"https://images.google.com\"  # step1: setup url1 you want to visit in new page\n",
    ")\n",
    "strScript = 'window.open(\"' + google_image_url + '\");'\n",
    "driver.execute_script(strScript)\n",
    "driver.switch_to.window(driver.window_handles[1])\n",
    "driver.find_element_by_class_name(\"gLFyf.gsfi\").send_keys(\"cat\")\n",
    "driver.find_element_by_class_name(\"Tg7LZd\").click()\n",
    "for i in range(10):\n",
    "    driver.find_element(\n",
    "        By.XPATH,\n",
    "        f'/html/body/div[2]/c-wiz/div[3]/div[1]/div/div/div/div[1]/div[1]/span/div[1]/div[1]/div[{i}]'\n",
    "    ).click()\n",
    "    imgs = driver.find_elements(By.CSS_SELECTOR, \"img.n3VNCb\")\n",
    "for img in imgs:\n",
    "    src = img.get_attribute(\"src\")\n",
    "    if \".jpg\" in src:\n",
    "        print(src)\n",
    "        break\n",
    "\n",
    "print(src)\n",
    "\n",
    "\n",
    "# image_src = driver.find_element(By.XPATH, '/html/body/div[2]/c-wiz/div[3]/div[2]/div[3]/div/div/div[3]/div[2]/c-wiz/div/div[1]/div[1]/div[3]/div/a/img').get_attribute('src')\n",
    "# soup2 = BeautifulSoup(driver.page_source, 'html.parser')\n",
    "# temp = soup2.find_all('img')\n",
    "# # temp[3]以前都怪怪的，3以後都可以\n",
    "# header, encoded = temp[3][\"src\"].split(\",\", 1)\n",
    "# data = b64decode(encoded)\n",
    "\n",
    "# with open(\"image.jpg\", \"wb\") as f:\n",
    "#     f.write(data)\n",
    "\n",
    "# # 切回原本頁面(遊戲頁面)\n",
    "# driver.switch_to.window(driver.window_handles[0])\n"
   ]
  },
  {
   "cell_type": "code",
   "execution_count": null,
   "metadata": {},
   "outputs": [],
   "source": []
  }
 ],
 "metadata": {
  "interpreter": {
   "hash": "3388d4becb0b7b2c647f4ed9bc153097cdd171d9146daa00b68961af22f570c0"
  },
  "kernelspec": {
   "display_name": "Python 3.10.4 ('venv': venv)",
   "language": "python",
   "name": "python3"
  },
  "language_info": {
   "codemirror_mode": {
    "name": "ipython",
    "version": 3
   },
   "file_extension": ".py",
   "mimetype": "text/x-python",
   "name": "python",
   "nbconvert_exporter": "python",
   "pygments_lexer": "ipython3",
   "version": "3.10.4"
  },
  "orig_nbformat": 4
 },
 "nbformat": 4,
 "nbformat_minor": 2
}
