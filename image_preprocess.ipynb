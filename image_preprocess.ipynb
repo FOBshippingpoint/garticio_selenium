{
 "cells": [
  {
   "cell_type": "code",
   "execution_count": 143,
   "metadata": {},
   "outputs": [
    {
     "data": {
      "image/png": "[encoded data removed]",
      "text/plain": [
       "<PIL.Image.Image image mode=1 size=10x10>"
      ]
     },
     "metadata": {},
     "output_type": "display_data"
    }
   ],
   "source": [
    "from PIL import Image, ImageFilter, ImageOps\n",
    "from IPython.display import display\n",
    "import numpy as np\n",
    "\n",
    "with Image.open(\"test2.jpg\") as im:\n",
    "    im = im.quantize(10)\n",
    "    im = im.convert(\"L\")\n",
    "    # im = im.filter(ImageFilter.FIND_EDGES)\n",
    "    # im = ImageOps.invert(im)\n",
    "    im = im.convert('1')\n",
    "    a = np.asarray(im)\n",
    "    display(im)"
   ]
  },
  {
   "cell_type": "code",
   "execution_count": 144,
   "metadata": {},
   "outputs": [
    {
     "name": "stdout",
     "output_type": "stream",
     "text": [
      "[[ True  True  True  True  True  True  True  True  True  True]\n",
      " [ True  True  True  True  True  True  True  True  True  True]\n",
      " [ True  True  True  True False False  True  True  True  True]\n",
      " [ True  True  True False False False False  True  True  True]\n",
      " [ True  True  True False False False False  True  True  True]\n",
      " [ True  True False False False False False False  True  True]\n",
      " [ True False False False False False False False False  True]\n",
      " [ True False False False False False False False False  True]\n",
      " [False False False False False False False False False False]\n",
      " [False False False False False False False False False False]]\n"
     ]
    },
    {
     "data": {
      "image/png": "[encoded data removed]",
      "text/plain": [
       "<PIL.Image.Image image mode=L size=10x10>"
      ]
     },
     "metadata": {},
     "output_type": "display_data"
    }
   ],
   "source": [
    "print(a)\n",
    "im = Image.fromarray(a, mode='L')\n",
    "display(im)\n"
   ]
  },
  {
   "cell_type": "code",
   "execution_count": 145,
   "metadata": {},
   "outputs": [],
   "source": [
    "def make_line(a, gap, target_color):\n",
    "    dotted_line = []\n",
    "    head = None\n",
    "    for i in range(len(a) - 1):\n",
    "        if head is None and a[i] == target_color:\n",
    "            head = i\n",
    "        if head is not None and a[i + 1] != target_color:\n",
    "            tail = i\n",
    "            dotted_line += [(head * gap, (tail + 1) * gap)]\n",
    "            head = None\n",
    "        if i == len(a) - 2 and a[i + 1] == target_color:\n",
    "            if head is None:\n",
    "                head = i + 1\n",
    "            tail = i + 1\n",
    "            dotted_line += [(head * gap, (tail + 1) * gap)]\n",
    "    return dotted_line\n",
    "\n",
    "\n",
    "def make_lines(a, gap=1, target_color=False):\n",
    "    dotted_lines = []\n",
    "    for a_ in a:\n",
    "        dotted_lines += [make_line(a_, gap, target_color)]\n",
    "    return dotted_lines\n"
   ]
  },
  {
   "cell_type": "code",
   "execution_count": 146,
   "metadata": {},
   "outputs": [
    {
     "name": "stdout",
     "output_type": "stream",
     "text": [
      "Stored 'lines' (list)\n",
      "[[], [], [(4, 6)], [(3, 7)], [(3, 7)], [(2, 8)], [(1, 9)], [(1, 9)], [(0, 10)], [(0, 10)]]\n"
     ]
    }
   ],
   "source": [
    "lines = make_lines(a)\n",
    "%store lines\n",
    "print(lines)"
   ]
  },
  {
   "cell_type": "code",
   "execution_count": null,
   "metadata": {},
   "outputs": [],
   "source": []
  }
 ],
 "metadata": {
  "interpreter": {
   "hash": "3388d4becb0b7b2c647f4ed9bc153097cdd171d9146daa00b68961af22f570c0"
  },
  "kernelspec": {
   "display_name": "Python 3.10.4 ('venv': venv)",
   "language": "python",
   "name": "python3"
  },
  "language_info": {
   "codemirror_mode": {
    "name": "ipython",
    "version": 3
   },
   "file_extension": ".py",
   "mimetype": "text/x-python",
   "name": "python",
   "nbconvert_exporter": "python",
   "pygments_lexer": "ipython3",
   "version": "3.10.4"
  },
  "orig_nbformat": 4
 },
 "nbformat": 4,
 "nbformat_minor": 2
}
