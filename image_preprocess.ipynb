{
 "cells": [
  {
   "cell_type": "code",
   "execution_count": 131,
   "metadata": {},
   "outputs": [],
   "source": [
    "from PIL import Image, ImageFilter, ImageOps\n",
    "from IPython.display import display\n",
    "import numpy as np\n",
    "import requests\n",
    "\n",
    "def get_image_from_url(url):\n",
    "    im = Image.open(requests.get(url, stream=True).raw)\n",
    "    display(im)\n",
    "    return im\n",
    "\n",
    "def resize_based_on_width(im, basewidth = 100):\n",
    "    wpercent = (basewidth / float(im.size[0]))\n",
    "    hsize = int((float(im.size[1]) * float(wpercent)))\n",
    "    im = im.resize((basewidth, hsize))\n",
    "    return im\n",
    "\n",
    "def preprocess(im):\n",
    "    im = resize_based_on_width(im)\n",
    "    im = im.quantize(5)\n",
    "    im = im.convert(\"L\")\n",
    "    im = im.filter(ImageFilter.FIND_EDGES)\n",
    "    im = ImageOps.invert(im)\n",
    "    im = im.point( lambda p: 255 if p > 230 else 0 )\n",
    "    im = im.convert('1')\n",
    "    a = np.asarray(im)\n",
    "    display(im)\n",
    "    return a\n"
   ]
  },
  {
   "cell_type": "code",
   "execution_count": 134,
   "metadata": {},
   "outputs": [],
   "source": [
    "def make_line(a, gap, target_color):\n",
    "    dotted_line = []\n",
    "    head = None\n",
    "    for i in range(len(a) - 1):\n",
    "        if head is None and a[i] == target_color:\n",
    "            head = i\n",
    "        if head is not None and a[i + 1] != target_color:\n",
    "            tail = i\n",
    "            dotted_line += [(head * gap, (tail + 1) * gap)]\n",
    "            head = None\n",
    "        if i == len(a) - 2 and a[i + 1] == target_color:\n",
    "            if head is None:\n",
    "                head = i + 1\n",
    "            tail = i + 1\n",
    "            dotted_line += [(head * gap, (tail + 1) * gap)]\n",
    "    return dotted_line\n",
    "\n",
    "\n",
    "def make_lines(a, gap=1, target_color=False):\n",
    "    dotted_lines = []\n",
    "    for a_ in a:\n",
    "        dotted_lines += [make_line(a_, gap, target_color)]\n",
    "    return dotted_lines\n"
   ]
  },
  {
   "cell_type": "code",
   "execution_count": null,
   "metadata": {},
   "outputs": [],
   "source": [
    "def image_to_lines(path, url=None):\n",
    "    if url is not None:\n",
    "        im = get_image_from_url(url)\n",
    "    else:\n",
    "        im = Image.open(path)\n",
    "    a = preprocess(im)\n",
    "    lines = make_lines(a)\n",
    "    return lines"
   ]
  }
 ],
 "metadata": {
  "interpreter": {
   "hash": "3388d4becb0b7b2c647f4ed9bc153097cdd171d9146daa00b68961af22f570c0"
  },
  "kernelspec": {
   "display_name": "Python 3.10.4 ('venv': venv)",
   "language": "python",
   "name": "python3"
  },
  "language_info": {
   "codemirror_mode": {
    "name": "ipython",
    "version": 3
   },
   "file_extension": ".py",
   "mimetype": "text/x-python",
   "name": "python",
   "nbconvert_exporter": "python",
   "pygments_lexer": "ipython3",
   "version": "3.10.4"
  },
  "orig_nbformat": 4
 },
 "nbformat": 4,
 "nbformat_minor": 2
}
