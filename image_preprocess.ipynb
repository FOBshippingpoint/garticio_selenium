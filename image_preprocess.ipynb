{
 "cells": [
  {
   "cell_type": "code",
   "execution_count": 5,
   "metadata": {},
   "outputs": [
    {
     "data": {
      "image/png": "[encoded data removed]",
      "text/plain": [
       "<PIL.Image.Image image mode=1 size=100x102>"
      ]
     },
     "metadata": {},
     "output_type": "display_data"
    }
   ],
   "source": [
    "from PIL import Image, ImageFilter, ImageOps\n",
    "from IPython.display import display\n",
    "import numpy as np\n",
    "\n",
    "def resize_based_on_width(im, basewidth = 100):\n",
    "    wpercent = (basewidth / float(im.size[0]))\n",
    "    hsize = int((float(im.size[1]) * float(wpercent)))\n",
    "    im = im.resize((basewidth, hsize))\n",
    "    return im\n",
    "\n",
    "with Image.open(\"test.jpg\") as im:\n",
    "    im = resize_based_on_width(im)\n",
    "    im = im.quantize(10)\n",
    "    im = im.convert(\"L\")\n",
    "    im = im.filter(ImageFilter.FIND_EDGES)\n",
    "    im = ImageOps.invert(im)\n",
    "    # im = im.point( lambda p: 255 if p > 150 else 0 )\n",
    "    im = im.convert('1')\n",
    "    a = np.asarray(im)\n",
    "    display(im)"
   ]
  },
  {
   "cell_type": "code",
   "execution_count": 6,
   "metadata": {},
   "outputs": [
    {
     "name": "stdout",
     "output_type": "stream",
     "text": [
      "[[False False False ... False False False]\n",
      " [False  True  True ...  True  True False]\n",
      " [False  True  True ...  True  True False]\n",
      " ...\n",
      " [False  True  True ...  True  True False]\n",
      " [False  True  True ...  True  True False]\n",
      " [False False False ... False False False]]\n"
     ]
    },
    {
     "name": "stderr",
     "output_type": "stream",
     "text": [
      "C:\\Users\\Asus\\AppData\\Local\\Temp\\ipykernel_29720\\2664673490.py:5: DeprecationWarning: ANTIALIAS is deprecated and will be removed in Pillow 10 (2023-07-01). Use Resampling.LANCZOS instead.\n",
      "  img = im.resize((basewidth, hsize), Image.ANTIALIAS)\n"
     ]
    },
    {
     "data": {
      "image/png": "[encoded data removed]",
      "text/plain": [
       "<PIL.Image.Image image mode=1 size=100x102>"
      ]
     },
     "metadata": {},
     "output_type": "display_data"
    }
   ],
   "source": [
    "print(a)\n",
    "basewidth = 300\n",
    "wpercent = (basewidth / float(im.size[0]))\n",
    "hsize = int((float(im.size[1]) * float(wpercent)))\n",
    "img = im.resize((basewidth, hsize), Image.ANTIALIAS)\n",
    "display(im)\n",
    "im = Image.fromarray(a, mode='L')\n"
   ]
  },
  {
   "cell_type": "code",
   "execution_count": 7,
   "metadata": {},
   "outputs": [],
   "source": [
    "def make_line(a, gap, target_color):\n",
    "    dotted_line = []\n",
    "    head = None\n",
    "    for i in range(len(a) - 1):\n",
    "        if head is None and a[i] == target_color:\n",
    "            head = i\n",
    "        if head is not None and a[i + 1] != target_color:\n",
    "            tail = i\n",
    "            dotted_line += [(head * gap, (tail + 1) * gap)]\n",
    "            head = None\n",
    "        if i == len(a) - 2 and a[i + 1] == target_color:\n",
    "            if head is None:\n",
    "                head = i + 1\n",
    "            tail = i + 1\n",
    "            dotted_line += [(head * gap, (tail + 1) * gap)]\n",
    "    return dotted_line\n",
    "\n",
    "\n",
    "def make_lines(a, gap=1, target_color=False):\n",
    "    dotted_lines = []\n",
    "    for a_ in a:\n",
    "        dotted_lines += [make_line(a_, gap, target_color)]\n",
    "    return dotted_lines\n"
   ]
  },
  {
   "cell_type": "code",
   "execution_count": 8,
   "metadata": {},
   "outputs": [
    {
     "name": "stdout",
     "output_type": "stream",
     "text": [
      "Stored 'lines' (list)\n",
      "[[(0, 100)], [(0, 1), (99, 100)], [(0, 1), (99, 100)], [(0, 1), (99, 100)], [(0, 1), (99, 100)], [(0, 1), (44, 45), (46, 58), (59, 60), (99, 100)], [(0, 1), (39, 47), (57, 64), (99, 100)], [(0, 1), (37, 40), (41, 42), (61, 63), (64, 67), (99, 100)], [(0, 1), (34, 38), (66, 70), (99, 100)], [(0, 1), (32, 34), (68, 72), (99, 100)], [(0, 1), (30, 33), (43, 57), (58, 60), (71, 73), (99, 100)], [(0, 1), (28, 31), (40, 46), (57, 63), (72, 76), (99, 100)], [(0, 1), (27, 28), (38, 42), (62, 66), (75, 77), (99, 100)], [(0, 1), (25, 28), (35, 39), (65, 69), (76, 78), (99, 100)], [(0, 1), (24, 26), (33, 36), (68, 70), (77, 80), (99, 100)], [(0, 1), (22, 25), (31, 34), (47, 73), (79, 81), (99, 100)], [(0, 1), (21, 23), (28, 41), (46, 47), (48, 74), (80, 82), (99, 100)], [(0, 1), (20, 22), (29, 30), (40, 41), (46, 47), (81, 83), (99, 100)], [(0, 1), (19, 21), (41, 42), (46, 47), (82, 84), (99, 100)], [(0, 1), (18, 20), (40, 42), (46, 47), (83, 85), (99, 100)], [(0, 1), (18, 19), (40, 42), (46, 47), (84, 86), (99, 100)], [(0, 1), (16, 18), (41, 42), (46, 47), (85, 87), (99, 100)], [(0, 1), (16, 17), (22, 41), (47, 81), (86, 88), (99, 100)], [(0, 1), (15, 17), (21, 24), (26, 27), (29, 30), (32, 33), (35, 36), (38, 39), (80, 82), (87, 88), (99, 100)], [(0, 1), (14, 16), (20, 22), (81, 83), (87, 89), (99, 100)], [(0, 1), (14, 15), (20, 21), (82, 84), (88, 90), (99, 100)], [(0, 1), (13, 15), (19, 21), (83, 84), (89, 91), (99, 100)], [(0, 1), (12, 14), (18, 20), (83, 85), (90, 91), (99, 100)], [(0, 1), (12, 13), (18, 19), (84, 85), (90, 92), (99, 100)], [(0, 1), (11, 13), (17, 19), (85, 87), (90, 92), (99, 100)], [(0, 1), (11, 12), (16, 18), (85, 87), (91, 93), (99, 100)], [(0, 1), (10, 12), (16, 17), (86, 88), (92, 93), (99, 100)], [(0, 1), (10, 11), (15, 17), (51, 54), (87, 88), (92, 93), (99, 100)], [(0, 1), (9, 11), (15, 16), (49, 52), (54, 55), (87, 89), (92, 94), (99, 100)], [(0, 1), (9, 10), (14, 16), (49, 50), (54, 56), (88, 89), (93, 94), (99, 100)], [(0, 1), (9, 10), (14, 15), (47, 50), (55, 57), (88, 90), (93, 95), (99, 100)], [(0, 1), (8, 9), (14, 15), (47, 48), (56, 58), (88, 89), (94, 95), (99, 100)], [(0, 1), (8, 10), (13, 15), (46, 48), (57, 59), (89, 90), (94, 95), (99, 100)], [(0, 1), (8, 9), (13, 14), (45, 47), (58, 60), (89, 91), (95, 96), (99, 100)], [(0, 1), (8, 9), (13, 14), (44, 46), (59, 61), (90, 91), (94, 96), (99, 100)], [(0, 1), (7, 9), (13, 14), (43, 45), (60, 62), (90, 91), (95, 96), (99, 100)], [(0, 1), (7, 8), (12, 14), (42, 44), (61, 62), (90, 92), (95, 96), (99, 100)], [(0, 1), (7, 8), (12, 13), (41, 43), (62, 64), (90, 92), (95, 97), (99, 100)], [(0, 1), (7, 8), (12, 13), (40, 42), (63, 65), (90, 92), (95, 96), (99, 100)], [(0, 1), (7, 8), (12, 13), (40, 42), (64, 65), (90, 91), (95, 97), (99, 100)], [(0, 1), (6, 7), (11, 13), (39, 41), (64, 66), (91, 92), (96, 97), (99, 100)], [(0, 1), (6, 8), (11, 12), (38, 40), (65, 67), (91, 92), (96, 97), (99, 100)], [(0, 1), (6, 8), (11, 13), (37, 39), (66, 68), (91, 92), (96, 97), (99, 100)], [(0, 1), (6, 8), (11, 12), (36, 38), (67, 69), (91, 92), (96, 97), (99, 100)], [(0, 1), (6, 8), (11, 12), (35, 37), (68, 70), (91, 92), (96, 97), (99, 100)], [(0, 1), (6, 8), (11, 13), (34, 36), (69, 71), (91, 92), (96, 97), (99, 100)], [(0, 1), (6, 8), (11, 12), (33, 35), (70, 72), (91, 92), (96, 97), (99, 100)], [(0, 1), (6, 8), (11, 12), (33, 35), (71, 72), (91, 92), (96, 97), (99, 100)], [(0, 1), (6, 8), (11, 13), (31, 34), (71, 73), (91, 92), (96, 97), (99, 100)], [(0, 1), (6, 7), (11, 13), (31, 33), (72, 75), (91, 92), (96, 97), (99, 100)], [(0, 1), (7, 8), (12, 13), (29, 32), (73, 75), (90, 92), (96, 97), (99, 100)], [(0, 1), (7, 8), (12, 13), (29, 30), (75, 76), (90, 91), (95, 97), (99, 100)], [(0, 1), (7, 8), (12, 13), (29, 30), (75, 76), (90, 92), (95, 96), (99, 100)], [(0, 1), (7, 8), (12, 14), (29, 31), (74, 75), (90, 92), (95, 97), (99, 100)], [(0, 1), (7, 8), (13, 14), (30, 38), (42, 61), (64, 75), (90, 91), (95, 96), (99, 100)], [(0, 1), (7, 9), (13, 14), (36, 37), (42, 44), (59, 60), (65, 66), (90, 91), (94, 96), (99, 100)], [(0, 1), (8, 9), (13, 14), (36, 37), (42, 44), (59, 60), (65, 66), (90, 91), (95, 96), (99, 100)], [(0, 1), (8, 9), (13, 15), (36, 37), (42, 44), (59, 60), (65, 66), (89, 91), (94, 96), (99, 100)], [(0, 1), (8, 10), (13, 15), (36, 37), (42, 44), (59, 60), (65, 66), (88, 90), (94, 95), (99, 100)], [(0, 1), (9, 10), (14, 15), (36, 37), (42, 44), (59, 60), (65, 66), (88, 90), (93, 95), (99, 100)], [(0, 1), (9, 10), (14, 16), (36, 37), (42, 44), (59, 60), (65, 66), (88, 89), (93, 94), (99, 100)], [(0, 1), (9, 11), (15, 16), (36, 37), (42, 44), (59, 60), (65, 66), (87, 89), (93, 94), (99, 100)], [(0, 1), (10, 11), (15, 17), (36, 37), (42, 44), (59, 60), (65, 66), (87, 88), (92, 94), (99, 100)], [(0, 1), (10, 12), (16, 17), (36, 37), (42, 44), (59, 60), (65, 66), (86, 88), (92, 93), (99, 100)], [(0, 1), (11, 12), (16, 18), (36, 37), (42, 44), (59, 60), (65, 66), (86, 87), (91, 93), (99, 100)], [(0, 1), (11, 13), (17, 18), (36, 37), (43, 44), (59, 60), (65, 66), (85, 87), (91, 92), (99, 100)], [(0, 1), (12, 13), (17, 19), (36, 38), (42, 43), (59, 60), (65, 66), (84, 86), (90, 92), (99, 100)], [(0, 1), (12, 14), (18, 19), (37, 43), (59, 60), (65, 66), (84, 85), (90, 91), (99, 100)], [(0, 1), (13, 14), (18, 20), (59, 60), (65, 66), (83, 85), (89, 91), (99, 100)], [(0, 1), (13, 15), (20, 21), (59, 60), (65, 66), (83, 84), (89, 90), (99, 100)], [(0, 1), (14, 15), (20, 22), (59, 60), (65, 66), (82, 84), (88, 90), (99, 100)], [(0, 1), (14, 16), (21, 23), (59, 60), (65, 66), (81, 83), (87, 89), (99, 100)], [(0, 1), (15, 17), (22, 24), (59, 60), (65, 66), (80, 82), (87, 88), (99, 100)], [(0, 1), (16, 18), (23, 24), (59, 60), (65, 66), (79, 81), (86, 88), (99, 100)], [(0, 1), (17, 19), (24, 26), (59, 60), (65, 66), (78, 80), (85, 87), (99, 100)], [(0, 1), (18, 20), (25, 27), (59, 60), (65, 66), (77, 79), (84, 86), (99, 100)], [(0, 1), (19, 21), (26, 28), (59, 60), (65, 66), (75, 78), (83, 84), (99, 100)], [(0, 1), (20, 22), (28, 29), (59, 60), (65, 66), (74, 77), (82, 84), (99, 100)], [(0, 1), (21, 23), (28, 31), (59, 61), (62, 63), (64, 66), (72, 75), (81, 83), (99, 100)], [(0, 1), (22, 24), (30, 33), (61, 64), (71, 73), (80, 82), (99, 100)], [(0, 1), (23, 25), (32, 35), (69, 72), (78, 80), (99, 100)], [(0, 1), (24, 26), (34, 37), (67, 70), (77, 79), (99, 100)], [(0, 1), (25, 28), (36, 39), (64, 68), (75, 78), (99, 100)], [(0, 1), (27, 30), (38, 43), (61, 65), (74, 76), (99, 100)], [(0, 1), (29, 32), (42, 48), (50, 51), (53, 54), (56, 62), (72, 75), (99, 100)], [(0, 1), (31, 34), (47, 57), (70, 73), (99, 100)], [(0, 1), (33, 36), (68, 71), (99, 100)], [(0, 1), (35, 39), (64, 65), (66, 69), (99, 100)], [(0, 1), (38, 43), (61, 66), (99, 100)], [(0, 1), (42, 47), (48, 56), (57, 62), (99, 100)], [(0, 1), (46, 57), (99, 100)], [(0, 1), (99, 100)], [(0, 1), (99, 100)], [(0, 1), (99, 100)], [(0, 1), (99, 100)], [(0, 1), (99, 100)], [(0, 100)]]\n"
     ]
    }
   ],
   "source": [
    "lines = make_lines(a)\n",
    "%store lines\n",
    "print(lines)"
   ]
  },
  {
   "cell_type": "code",
   "execution_count": null,
   "metadata": {},
   "outputs": [],
   "source": []
  }
 ],
 "metadata": {
  "interpreter": {
   "hash": "3388d4becb0b7b2c647f4ed9bc153097cdd171d9146daa00b68961af22f570c0"
  },
  "kernelspec": {
   "display_name": "Python 3.10.4 ('venv': venv)",
   "language": "python",
   "name": "python3"
  },
  "language_info": {
   "codemirror_mode": {
    "name": "ipython",
    "version": 3
   },
   "file_extension": ".py",
   "mimetype": "text/x-python",
   "name": "python",
   "nbconvert_exporter": "python",
   "pygments_lexer": "ipython3",
   "version": "3.10.4"
  },
  "orig_nbformat": 4
 },
 "nbformat": 4,
 "nbformat_minor": 2
}
