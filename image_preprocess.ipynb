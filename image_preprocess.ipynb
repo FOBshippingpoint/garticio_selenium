{
 "cells": [
  {
   "cell_type": "code",
   "execution_count": 1,
   "metadata": {},
   "outputs": [
    {
     "data": {
      "image/png": "[encoded data removed]",
      "text/plain": [
       "<PIL.Image.Image image mode=L size=176x176>"
      ]
     },
     "metadata": {},
     "output_type": "display_data"
    }
   ],
   "source": [
    "from PIL import Image, ImageFilter, ImageOps\n",
    "from IPython.display import display\n",
    "import numpy as np\n",
    "\n",
    "with Image.open(\"ymm.jpg\") as im:\n",
    "    # im.rotate(45).show()\n",
    "    im = im.quantize(10)\n",
    "    im = im.convert(\"L\")\n",
    "    im = im.filter(ImageFilter.FIND_EDGES)\n",
    "    im = ImageOps.invert(im)\n",
    "    # im = im.point( lambda p: 255 if p > 200 else 0)\n",
    "    a = np.asarray(im)\n",
    "    display(im)\n"
   ]
  },
  {
   "cell_type": "code",
   "execution_count": 2,
   "metadata": {},
   "outputs": [],
   "source": [
    "threshold = 200\n",
    "f = lambda x: 0 if x > threshold else 1 # binarize to one-bit image\n",
    "f = np.vectorize(f)\n",
    "a = f(a)\n"
   ]
  },
  {
   "cell_type": "code",
   "execution_count": 9,
   "metadata": {},
   "outputs": [
    {
     "name": "stdout",
     "output_type": "stream",
     "text": [
      "[[(20, 20), (40, 60), (90, 90)], [(40, 60), (90, 100)]]\n"
     ]
    }
   ],
   "source": [
    "gap = 10  # pixel(s)\n",
    "target_color = 1 # white\n",
    "\n",
    "def make_line(a):\n",
    "    dotted_line = []\n",
    "    head = None\n",
    "    for i in range(len(a) - 1):\n",
    "        if head is None and a[i] == target_color:\n",
    "            head = i\n",
    "        if head is not None and a[i + 1] != target_color:\n",
    "            tail = i\n",
    "            dotted_line += [(head * gap, tail * gap)]\n",
    "            head = None\n",
    "        if i == len(a) - 2 and a[i + 1] == target_color:\n",
    "            if head is None:\n",
    "                head= i +1\n",
    "            tail = i +1\n",
    "            dotted_line += [(head * gap, tail * gap)]\n",
    "    return dotted_line\n",
    "\n",
    "def make_lines(a):\n",
    "    dotted_lines = []\n",
    "    for a_ in a:\n",
    "        dotted_lines += [make_line(a_)]\n",
    "    return dotted_lines"
   ]
  },
  {
   "cell_type": "code",
   "execution_count": null,
   "metadata": {},
   "outputs": [],
   "source": []
  }
 ],
 "metadata": {
  "interpreter": {
   "hash": "3388d4becb0b7b2c647f4ed9bc153097cdd171d9146daa00b68961af22f570c0"
  },
  "kernelspec": {
   "display_name": "Python 3.10.4 ('venv': venv)",
   "language": "python",
   "name": "python3"
  },
  "language_info": {
   "codemirror_mode": {
    "name": "ipython",
    "version": 3
   },
   "file_extension": ".py",
   "mimetype": "text/x-python",
   "name": "python",
   "nbconvert_exporter": "python",
   "pygments_lexer": "ipython3",
   "version": "3.10.4"
  },
  "orig_nbformat": 4
 },
 "nbformat": 4,
 "nbformat_minor": 2
}
