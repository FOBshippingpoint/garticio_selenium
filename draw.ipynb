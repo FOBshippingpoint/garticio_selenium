{
 "cells": [
  {
   "cell_type": "code",
   "execution_count": 283,
   "metadata": {},
   "outputs": [
    {
     "name": "stderr",
     "output_type": "stream",
     "text": [
      "C:\\Users\\Asus\\AppData\\Local\\Temp\\ipykernel_29200\\3557280430.py:13: DeprecationWarning: use options instead of chrome_options\n",
      "  driver = webdriver.Chrome(chrome_options=options)\n"
     ]
    },
    {
     "name": "stdout",
     "output_type": "stream",
     "text": [
      "Chrome Browser Invoked\n"
     ]
    }
   ],
   "source": [
    "# 啟動 Chrome 必須先下載 Chrome 驅動器(https://sites.google.com/chromium.org/driver/)\n",
    "# 將 Chrome 驅動器放置同路徑下，或設定於系統環境變數中的 Path\n",
    "from selenium.webdriver.chrome.options import Options\n",
    "from selenium import webdriver\n",
    "from selenium.webdriver.common.action_chains import ActionChains\n",
    "\n",
    "# from webdriver_manager.chrome import ChromeDriverManager\n",
    "\n",
    "options = Options()\n",
    "options.binary_location = (\n",
    "    \"C:\\\\Program Files (x86)\\\\Google\\\\Chrome\\\\Application\\\\chrome.exe\"\n",
    ")\n",
    "driver = webdriver.Chrome(chrome_options=options)\n",
    "driver.get(\"https://kleki.com/\")\n",
    "\n",
    "print(\"Chrome Browser Invoked\")"
   ]
  },
  {
   "cell_type": "code",
   "execution_count": 284,
   "metadata": {},
   "outputs": [],
   "source": [
    "# elem = driver.find_element_by_id('painter')\n",
    "# action = ActionChains(driver)\n",
    "# action.move_to_element_with_offset(elem, 50, 50).click_and_hold().move_by_offset(50, 50).release().perform()\n",
    "# action.move_to_element_with_offset(elem, 100, 50).click_and_hold().move_by_offset(-50, 50).release().perform()"
   ]
  },
  {
   "cell_type": "code",
   "execution_count": 285,
   "metadata": {},
   "outputs": [
    {
     "name": "stderr",
     "output_type": "stream",
     "text": [
      "C:\\Users\\Asus\\AppData\\Local\\Temp\\ipykernel_29200\\1903902262.py:1: DeprecationWarning: find_element_by_tag_name is deprecated. Please use find_element(by=By.TAG_NAME, value=name) instead\n",
      "  elem = driver.find_element_by_tag_name('canvas')\n"
     ]
    }
   ],
   "source": [
    "elem = driver.find_element_by_tag_name('canvas')\n",
    "action = ActionChains(driver)\n",
    "action.w3c_actions.pointer_action._duration = 1"
   ]
  },
  {
   "cell_type": "code",
   "execution_count": 286,
   "metadata": {},
   "outputs": [
    {
     "name": "stdout",
     "output_type": "stream",
     "text": [
      "[]\n",
      "[]\n",
      "[(4, 6)]\n",
      "[(3, 7)]\n",
      "[(3, 7)]\n",
      "[(2, 8)]\n",
      "[(1, 9)]\n",
      "[(1, 9)]\n",
      "[(0, 10)]\n",
      "[(0, 10)]\n"
     ]
    }
   ],
   "source": [
    "%store -r lines\n",
    "\n",
    "x = 10\n",
    "y = 10\n",
    "gap = 5\n",
    "line_height = 3\n",
    "\n",
    "for i, line in enumerate(lines):\n",
    "    print(line)\n",
    "    action.move_to_element_with_offset(elem, x, y + i * line_height )\n",
    "    for seg in line:\n",
    "        action.move_by_offset(seg[0] * gap, 0)\n",
    "        action.click_and_hold()\n",
    "        action.click_and_hold()\n",
    "        action.move_by_offset((seg[1] - seg[0]) * gap, 0)\n",
    "        action.release()\n",
    "action.perform()"
   ]
  },
  {
   "cell_type": "code",
   "execution_count": null,
   "metadata": {},
   "outputs": [],
   "source": []
  }
 ],
 "metadata": {
  "interpreter": {
   "hash": "3388d4becb0b7b2c647f4ed9bc153097cdd171d9146daa00b68961af22f570c0"
  },
  "kernelspec": {
   "display_name": "Python 3.10.4 ('venv': venv)",
   "language": "python",
   "name": "python3"
  },
  "language_info": {
   "codemirror_mode": {
    "name": "ipython",
    "version": 3
   },
   "file_extension": ".py",
   "mimetype": "text/x-python",
   "name": "python",
   "nbconvert_exporter": "python",
   "pygments_lexer": "ipython3",
   "version": "3.10.4"
  },
  "orig_nbformat": 4
 },
 "nbformat": 4,
 "nbformat_minor": 2
}
