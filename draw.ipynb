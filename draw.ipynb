{
 "cells": [
  {
   "cell_type": "code",
   "execution_count": 18,
   "metadata": {},
   "outputs": [
    {
     "name": "stdout",
     "output_type": "stream",
     "text": [
      "Chrome Browser Invoked\n"
     ]
    }
   ],
   "source": [
    "# 啟動 Chrome 必須先下載 Chrome 驅動器(https://sites.google.com/chromium.org/driver/)\n",
    "# 將 Chrome 驅動器放置同路徑下，或設定於系統環境變數中的 Path\n",
    "from selenium.webdriver.chrome.options import Options\n",
    "from selenium import webdriver\n",
    "from selenium.webdriver.common.action_chains import ActionChains\n",
    "from selenium.webdriver.support.ui import WebDriverWait\n",
    "from selenium.webdriver.common.by import By\n",
    "from selenium.webdriver.support import expected_conditions as EC\n",
    "\n",
    "# from webdriver_manager.chrome import ChromeDriverManager\n",
    "\n",
    "options = Options()\n",
    "options.binary_location = (\n",
    "    \"C:\\\\Program Files (x86)\\\\Google\\\\Chrome\\\\Application\\\\chrome.exe\"\n",
    ")\n",
    "driver = webdriver.Chrome(options=options)\n",
    "driver.get(\"https://jspaint.app/#local:bc6a16fb0b6818\")\n",
    "\n",
    "print(\"Chrome Browser Invoked\")\n"
   ]
  },
  {
   "cell_type": "code",
   "execution_count": 19,
   "metadata": {},
   "outputs": [],
   "source": [
    "wait = WebDriverWait(driver, 10)\n",
    "elem = wait.until(EC.element_to_be_clickable((By.TAG_NAME, \"canvas\")))\n",
    "action = ActionChains(driver)\n",
    "action.w3c_actions.pointer_action._duration = 1\n"
   ]
  },
  {
   "cell_type": "code",
   "execution_count": 20,
   "metadata": {},
   "outputs": [],
   "source": [
    "%store -r lines\n",
    "\n",
    "x = 10\n",
    "y = 10\n",
    "gap = 1\n",
    "line_height = gap\n",
    "\n",
    "for i, line in enumerate(lines):\n",
    "    # print(line)\n",
    "    for seg in line:\n",
    "        x_start = seg[0] * gap\n",
    "        x_end = seg[1] * gap\n",
    "        action.move_to_element_with_offset(elem, x_start, y + i * line_height)\n",
    "        # action.move_by_offset(seg[0] * gap, 0)\n",
    "        action.click_and_hold()\n",
    "        action.move_to_element_with_offset(elem, x_end, y + i * line_height)\n",
    "        # action.move_by_offset((seg[1] - seg[0]) * gap, 0)\n",
    "        action.release()\n",
    "action.perform()"
   ]
  }
 ],
 "metadata": {
  "interpreter": {
   "hash": "3388d4becb0b7b2c647f4ed9bc153097cdd171d9146daa00b68961af22f570c0"
  },
  "kernelspec": {
   "display_name": "Python 3.10.4 ('venv': venv)",
   "language": "python",
   "name": "python3"
  },
  "language_info": {
   "codemirror_mode": {
    "name": "ipython",
    "version": 3
   },
   "file_extension": ".py",
   "mimetype": "text/x-python",
   "name": "python",
   "nbconvert_exporter": "python",
   "pygments_lexer": "ipython3",
   "version": "3.10.4"
  },
  "orig_nbformat": 4
 },
 "nbformat": 4,
 "nbformat_minor": 2
}
