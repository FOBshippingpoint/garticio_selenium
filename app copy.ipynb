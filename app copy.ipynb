{
 "cells": [
  {
   "cell_type": "code",
   "execution_count": 2,
   "metadata": {},
   "outputs": [
    {
     "name": "stdout",
     "output_type": "stream",
     "text": [
      "\n"
     ]
    },
    {
     "name": "stderr",
     "output_type": "stream",
     "text": [
      "[WDM] - ====== WebDriver manager ======\n",
      "[WDM] - Current google-chrome version is 102.0.5005\n",
      "[WDM] - Get LATEST chromedriver version for 102.0.5005 google-chrome\n",
      "[WDM] - Driver [C:\\Users\\user\\.wdm\\drivers\\chromedriver\\win32\\102.0.5005.61\\chromedriver.exe] found in cache\n",
      "C:\\Users\\user\\AppData\\Local\\Temp\\ipykernel_2364\\815585828.py:13: DeprecationWarning: executable_path has been deprecated, please pass in a Service object\n",
      "  driver = webdriver.Chrome(ChromeDriverManager().install())\n"
     ]
    }
   ],
   "source": [
    "# 啟動 Chrome 必須先下載 Chrome 驅動器(https://sites.google.com/chromium.org/driver/)\n",
    "# 將 Chrome 驅動器放置同路徑下，或設定於系統環境變數中的 Path\n",
    "# driver = webdriver.Chrome('chromedriver.exe')\n",
    "# driver = webdriver.Chrome()\n",
    "from selenium.webdriver.chrome.options import Options\n",
    "from selenium import webdriver\n",
    "from webdriver_manager.chrome import ChromeDriverManager\n",
    "from base64 import b64decode\n",
    "\n",
    "\n",
    "driver = webdriver.Chrome(ChromeDriverManager().install())\n",
    "\n",
    "driver.get(\"https://gartic.io/\")"
   ]
  },
  {
   "cell_type": "code",
   "execution_count": 3,
   "metadata": {},
   "outputs": [
    {
     "name": "stdout",
     "output_type": "stream",
     "text": [
      "手\n"
     ]
    }
   ],
   "source": [
    "# 找出題目\n",
    "from bs4 import BeautifulSoup\n",
    "soup = BeautifulSoup(driver.page_source, 'html.parser')\n",
    "titles = soup.find(\"div\", class_=\"word\")\n",
    "print(titles.text)"
   ]
  },
  {
   "cell_type": "code",
   "execution_count": 4,
   "metadata": {},
   "outputs": [
    {
     "name": "stderr",
     "output_type": "stream",
     "text": [
      "C:\\Users\\user\\AppData\\Local\\Temp\\ipykernel_2364\\2468387551.py:6: DeprecationWarning: find_element_by_class_name is deprecated. Please use find_element(by=By.CLASS_NAME, value=name) instead\n",
      "  driver.find_element_by_class_name(\"gLFyf.gsfi\").send_keys(titles.text)\n",
      "C:\\Users\\user\\AppData\\Local\\Temp\\ipykernel_2364\\2468387551.py:7: DeprecationWarning: find_element_by_class_name is deprecated. Please use find_element(by=By.CLASS_NAME, value=name) instead\n",
      "  driver.find_element_by_class_name(\"Tg7LZd\").click()\n"
     ]
    }
   ],
   "source": [
    "# 開啟新分頁(圖片搜尋頁面)\n",
    "url1 = 'https://www.google.com.tw/imghp?hl=zh-TW&tab=ri&authuser=0&ogbl' #step1:setup url1 you want to visit in new page\n",
    "strScript = 'window.open(\"'+url1+'\");'\n",
    "driver.execute_script(strScript)\n",
    "driver.switch_to.window(driver.window_handles[1])\n",
    "driver.find_element_by_class_name(\"gLFyf.gsfi\").send_keys(titles.text)\n",
    "driver.find_element_by_class_name(\"Tg7LZd\").click()"
   ]
  },
  {
   "cell_type": "code",
   "execution_count": 7,
   "metadata": {},
   "outputs": [
    {
     "data": {
      "text/plain": [
       "'data:image/jpeg;base64,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'"
      ]
     },
     "execution_count": 7,
     "metadata": {},
     "output_type": "execute_result"
    }
   ],
   "source": [
    "soup2 = BeautifulSoup(driver.page_source, 'html.parser')\n",
    "temp = soup2.find_all('img')\n",
    "temp[3][\"src\"]"
   ]
  },
  {
   "cell_type": "code",
   "execution_count": 18,
   "metadata": {},
   "outputs": [],
   "source": [
    "# temp[3]以前都怪怪的，3以後都可以\n",
    "header, encoded = temp[3][\"src\"].split(\",\", 1)\n",
    "data = b64decode(encoded)\n",
    "\n",
    "with open(\"image.png\", \"wb\") as f:\n",
    "    f.write(data)"
   ]
  },
  {
   "cell_type": "code",
   "execution_count": 32,
   "metadata": {},
   "outputs": [],
   "source": [
    "# 切回原本頁面(遊戲頁面)\n",
    "driver.switch_to.window(driver.window_handles[0])"
   ]
  },
  {
   "cell_type": "code",
   "execution_count": null,
   "metadata": {},
   "outputs": [],
   "source": []
  }
 ],
 "metadata": {
  "interpreter": {
   "hash": "66798fe487ab2dbcd1d7b12bd58a5629f70cd14f2fe776d02f2300f57379e519"
  },
  "kernelspec": {
   "display_name": "Python 3.9.7 ('venv': venv)",
   "language": "python",
   "name": "python3"
  },
  "language_info": {
   "codemirror_mode": {
    "name": "ipython",
    "version": 3
   },
   "file_extension": ".py",
   "mimetype": "text/x-python",
   "name": "python",
   "nbconvert_exporter": "python",
   "pygments_lexer": "ipython3",
   "version": "3.9.7"
  },
  "orig_nbformat": 4
 },
 "nbformat": 4,
 "nbformat_minor": 2
}
