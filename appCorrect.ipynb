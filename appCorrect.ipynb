{
 "cells": [
  {
   "cell_type": "code",
   "execution_count": 10,
   "metadata": {},
   "outputs": [
    {
     "name": "stdout",
     "output_type": "stream",
     "text": [
      "\n"
     ]
    },
    {
     "name": "stderr",
     "output_type": "stream",
     "text": [
      "[WDM] - ====== WebDriver manager ======\n",
      "[WDM] - Current google-chrome version is 102.0.5005\n",
      "[WDM] - Get LATEST chromedriver version for 102.0.5005 google-chrome\n",
      "[WDM] - Driver [C:\\Users\\User\\.wdm\\drivers\\chromedriver\\win32\\102.0.5005.61\\chromedriver.exe] found in cache\n",
      "C:\\Users\\User\\AppData\\Local\\Temp\\ipykernel_22040\\3106278018.py:11: DeprecationWarning: executable_path has been deprecated, please pass in a Service object\n",
      "  driver = webdriver.Chrome(ChromeDriverManager().install())\n"
     ]
    }
   ],
   "source": [
    "# 啟動 Chrome 必須先下載 Chrome 驅動器(https://sites.google.com/chromium.org/driver/)\n",
    "# 將 Chrome 驅動器放置同路徑下，或設定於系統環境變數中的 Path\n",
    "# driver = webdriver.Chrome('chromedriver.exe')\n",
    "# driver = webdriver.Chrome()\n",
    "from selenium.webdriver.chrome.options import Options\n",
    "from selenium import webdriver\n",
    "from webdriver_manager.chrome import ChromeDriverManager\n",
    "from base64 import b64decode\n",
    "\n",
    "\n",
    "driver = webdriver.Chrome(ChromeDriverManager().install())\n",
    "\n",
    "driver.get(\"https://gartic.io/\")"
   ]
  },
  {
   "cell_type": "code",
   "execution_count": 20,
   "metadata": {},
   "outputs": [
    {
     "name": "stdout",
     "output_type": "stream",
     "text": [
      "獨角蟲\n"
     ]
    }
   ],
   "source": [
    "# 找出題目\n",
    "from bs4 import BeautifulSoup\n",
    "soup = BeautifulSoup(driver.page_source, 'html.parser')\n",
    "titles = soup.find(\"div\", class_=\"word\")\n",
    "print(titles.text)"
   ]
  },
  {
   "cell_type": "code",
   "execution_count": 21,
   "metadata": {},
   "outputs": [
    {
     "name": "stderr",
     "output_type": "stream",
     "text": [
      "C:\\Users\\User\\AppData\\Local\\Temp\\ipykernel_22040\\2468387551.py:6: DeprecationWarning: find_element_by_class_name is deprecated. Please use find_element(by=By.CLASS_NAME, value=name) instead\n",
      "  driver.find_element_by_class_name(\"gLFyf.gsfi\").send_keys(titles.text)\n",
      "C:\\Users\\User\\AppData\\Local\\Temp\\ipykernel_22040\\2468387551.py:7: DeprecationWarning: find_element_by_class_name is deprecated. Please use find_element(by=By.CLASS_NAME, value=name) instead\n",
      "  driver.find_element_by_class_name(\"Tg7LZd\").click()\n"
     ]
    }
   ],
   "source": [
    "# 開啟新分頁(圖片搜尋頁面)\n",
    "url1 = 'https://www.google.com.tw/imghp?hl=zh-TW&tab=ri&authuser=0&ogbl' #step1:setup url1 you want to visit in new page\n",
    "strScript = 'window.open(\"'+url1+'\");'\n",
    "driver.execute_script(strScript)\n",
    "driver.switch_to.window(driver.window_handles[1])\n",
    "driver.find_element_by_class_name(\"gLFyf.gsfi\").send_keys(titles.text)\n",
    "driver.find_element_by_class_name(\"Tg7LZd\").click()"
   ]
  },
  {
   "cell_type": "code",
   "execution_count": 23,
   "metadata": {},
   "outputs": [
    {
     "name": "stderr",
     "output_type": "stream",
     "text": [
      "C:\\Users\\User\\AppData\\Local\\Temp\\ipykernel_22040\\427644872.py:4: DeprecationWarning: find_element_by_xpath is deprecated. Please use find_element(by=By.XPATH, value=xpath) instead\n",
      "  test_img = driver.find_element_by_xpath('//*[@id=\"islrg\"]/div[1]/div[' +str(i) + ']/a[1]/div[1]/img')\n"
     ]
    },
    {
     "data": {
      "text/plain": [
       "'data:image/jpeg;base64,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'"
      ]
     },
     "execution_count": 23,
     "metadata": {},
     "output_type": "execute_result"
    }
   ],
   "source": [
    "soup2 = BeautifulSoup(driver.page_source, 'html.parser')\n",
    "temp = soup2.find_all('img')\n",
    "for i in range (1,10):\n",
    "    test_img = driver.find_element_by_xpath('//*[@id=\"islrg\"]/div[1]/div[' +str(i) + ']/a[1]/div[1]/img')\n",
    "temp[3][\"src\"]"
   ]
  },
  {
   "cell_type": "code",
   "execution_count": 17,
   "metadata": {},
   "outputs": [
    {
     "name": "stdout",
     "output_type": "stream",
     "text": [
      "<selenium.webdriver.remote.webelement.WebElement (session=\"316e22a6770caabab6cb8e3d6e7b604c\", element=\"71bc85e0-6ec0-413e-9355-72b293bd33a0\")>\n"
     ]
    }
   ],
   "source": [
    "print(test_img)"
   ]
  },
  {
   "cell_type": "code",
   "execution_count": 15,
   "metadata": {},
   "outputs": [],
   "source": [
    "# temp[3]以前都怪怪的，3以後都可以\n",
    "header, encoded = temp[3][\"src\"].split(\",\", 1)\n",
    "data = b64decode(encoded)\n",
    "\n",
    "with open(\"image.png\", \"wb\") as f:\n",
    "    f.write(data)"
   ]
  },
  {
   "cell_type": "code",
   "execution_count": 14,
   "metadata": {},
   "outputs": [],
   "source": [
    "# 切回原本頁面(遊戲頁面)\n",
    "driver.switch_to.window(driver.window_handles[0])"
   ]
  },
  {
   "cell_type": "code",
   "execution_count": 8,
   "metadata": {},
   "outputs": [],
   "source": [
    "# 程式暫停直到成為繪畫者\n",
    "from selenium.webdriver.support import expected_conditions as EC\n",
    "from selenium.webdriver.common.by import By\n",
    "from selenium.webdriver.support.ui import WebDriverWait\n",
    "wait = WebDriverWait(driver,10,0.5)\n",
    "element = wait.until(EC.presence_of_all_elements_located((By.CLASS_NAME,\"hint\")))\n",
    "\n",
    "driver.quit()"
   ]
  }
 ],
 "metadata": {
  "interpreter": {
   "hash": "57c5eb2af3901412fb4099800682cc1712b24c94fb8b91115c5f6b58d1d525f9"
  },
  "kernelspec": {
   "display_name": "Python 3.8.8 ('venv': venv)",
   "language": "python",
   "name": "python3"
  },
  "language_info": {
   "codemirror_mode": {
    "name": "ipython",
    "version": 3
   },
   "file_extension": ".py",
   "mimetype": "text/x-python",
   "name": "python",
   "nbconvert_exporter": "python",
   "pygments_lexer": "ipython3",
   "version": "3.8.8"
  },
  "orig_nbformat": 4
 },
 "nbformat": 4,
 "nbformat_minor": 2
}
