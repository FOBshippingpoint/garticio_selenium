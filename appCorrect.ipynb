{
 "cells": [
  {
   "cell_type": "code",
   "execution_count": 4,
   "metadata": {},
   "outputs": [
    {
     "name": "stdout",
     "output_type": "stream",
     "text": [
      "\n"
     ]
    },
    {
     "name": "stderr",
     "output_type": "stream",
     "text": [
      "[WDM] - ====== WebDriver manager ======\n",
      "[WDM] - Current google-chrome version is 102.0.5005\n",
      "[WDM] - Get LATEST chromedriver version for 102.0.5005 google-chrome\n",
      "[WDM] - Driver [C:\\Users\\Asus\\.wdm\\drivers\\chromedriver\\win32\\102.0.5005.61\\chromedriver.exe] found in cache\n",
      "C:\\Users\\Asus\\AppData\\Local\\Temp\\ipykernel_14548\\3630619292.py:12: DeprecationWarning: executable_path has been deprecated, please pass in a Service object\n",
      "  driver = webdriver.Chrome(ChromeDriverManager().install(), options=options)\n"
     ]
    }
   ],
   "source": [
    "# 啟動 Chrome 必須先下載 Chrome 驅動器(https://sites.google.com/chromium.org/driver/)\n",
    "# 將 Chrome 驅動器放置同路徑下，或設定於系統環境變數中的 Path\n",
    "# driver = webdriver.Chrome('chromedriver.exe')\n",
    "# driver = webdriver.Chrome()\n",
    "from selenium.webdriver.chrome.options import Options\n",
    "from selenium import webdriver\n",
    "from webdriver_manager.chrome import ChromeDriverManager\n",
    "from base64 import b64decode\n",
    "\n",
    "options = Options()\n",
    "options.add_extension(\"uBlock-Origin.crx\")\n",
    "driver = webdriver.Chrome(ChromeDriverManager().install(), options=options)\n",
    "\n",
    "driver.get(\"https://gartic.io/\")"
   ]
  },
  {
   "cell_type": "code",
   "execution_count": 6,
   "metadata": {},
   "outputs": [
    {
     "name": "stdout",
     "output_type": "stream",
     "text": [
      "野兔\n"
     ]
    }
   ],
   "source": [
    "# 找出題目\n",
    "from bs4 import BeautifulSoup\n",
    "soup = BeautifulSoup(driver.page_source, 'html.parser')\n",
    "titles = soup.find(\"div\", class_=\"word\")\n",
    "print(titles.text)"
   ]
  },
  {
   "cell_type": "code",
   "execution_count": 7,
   "metadata": {},
   "outputs": [
    {
     "name": "stderr",
     "output_type": "stream",
     "text": [
      "C:\\Users\\Asus\\AppData\\Local\\Temp\\ipykernel_14548\\2468387551.py:6: DeprecationWarning: find_element_by_class_name is deprecated. Please use find_element(by=By.CLASS_NAME, value=name) instead\n",
      "  driver.find_element_by_class_name(\"gLFyf.gsfi\").send_keys(titles.text)\n",
      "C:\\Users\\Asus\\AppData\\Local\\Temp\\ipykernel_14548\\2468387551.py:7: DeprecationWarning: find_element_by_class_name is deprecated. Please use find_element(by=By.CLASS_NAME, value=name) instead\n",
      "  driver.find_element_by_class_name(\"Tg7LZd\").click()\n"
     ]
    }
   ],
   "source": [
    "# 開啟新分頁(圖片搜尋頁面)\n",
    "url1 = 'https://www.google.com.tw/imghp?hl=zh-TW&tab=ri&authuser=0&ogbl' #step1:setup url1 you want to visit in new page\n",
    "strScript = 'window.open(\"'+url1+'\");'\n",
    "driver.execute_script(strScript)\n",
    "driver.switch_to.window(driver.window_handles[1])\n",
    "driver.find_element_by_class_name(\"gLFyf.gsfi\").send_keys(titles.text)\n",
    "driver.find_element_by_class_name(\"Tg7LZd\").click()"
   ]
  },
  {
   "cell_type": "code",
   "execution_count": 8,
   "metadata": {},
   "outputs": [
    {
     "data": {
      "text/plain": [
       "'data:image/jpeg;base64,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'"
      ]
     },
     "execution_count": 8,
     "metadata": {},
     "output_type": "execute_result"
    }
   ],
   "source": [
    "soup2 = BeautifulSoup(driver.page_source, 'html.parser')\n",
    "temp = soup2.find_all('img')\n",
    "image_src = temp[3][\"src\"]"
   ]
  },
  {
   "cell_type": "code",
   "execution_count": 9,
   "metadata": {},
   "outputs": [],
   "source": [
    "# temp[3]以前都怪怪的，3以後都可以\n",
    "header, encoded = temp[3][\"src\"].split(\",\", 1)\n",
    "data = b64decode(encoded)\n",
    "\n",
    "with open(\"image.png\", \"wb\") as f:\n",
    "    f.write(data)"
   ]
  },
  {
   "cell_type": "code",
   "execution_count": null,
   "metadata": {},
   "outputs": [],
   "source": [
    "# 切回原本頁面(遊戲頁面)\n",
    "driver.switch_to.window(driver.window_handles[0])"
   ]
  },
  {
   "cell_type": "code",
   "execution_count": null,
   "metadata": {},
   "outputs": [],
   "source": []
  }
 ],
 "metadata": {
  "interpreter": {
   "hash": "3388d4becb0b7b2c647f4ed9bc153097cdd171d9146daa00b68961af22f570c0"
  },
  "kernelspec": {
   "display_name": "Python 3.10.4 ('venv': venv)",
   "language": "python",
   "name": "python3"
  },
  "language_info": {
   "codemirror_mode": {
    "name": "ipython",
    "version": 3
   },
   "file_extension": ".py",
   "mimetype": "text/x-python",
   "name": "python",
   "nbconvert_exporter": "python",
   "pygments_lexer": "ipython3",
   "version": "3.10.4"
  },
  "orig_nbformat": 4
 },
 "nbformat": 4,
 "nbformat_minor": 2
}
