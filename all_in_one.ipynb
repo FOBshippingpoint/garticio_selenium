{
 "cells": [
  {
   "cell_type": "code",
   "execution_count": 23,
   "metadata": {},
   "outputs": [],
   "source": [
    "from PIL import Image, ImageFilter, ImageOps\n",
    "from IPython.display import display\n",
    "import numpy as np\n",
    "import requests\n",
    "\n",
    "def get_image_from_url(url):\n",
    "    im = Image.open(requests.get(url, stream=True).raw)\n",
    "    display(im)\n",
    "    return im\n",
    "\n",
    "def resize_based_on_width(im, basewidth = 100):\n",
    "    wpercent = (basewidth / float(im.size[0]))\n",
    "    hsize = int((float(im.size[1]) * float(wpercent)))\n",
    "    im = im.resize((basewidth, hsize))\n",
    "    return im\n",
    "\n",
    "def preprocess(im):\n",
    "    im = resize_based_on_width(im)\n",
    "    im = im.quantize(5)\n",
    "    im = im.convert(\"L\")\n",
    "    im = im.filter(ImageFilter.FIND_EDGES)\n",
    "    im = ImageOps.invert(im)\n",
    "    im = im.point( lambda p: 255 if p > 230 else 0 )\n",
    "    im = im.convert('1')\n",
    "    a = np.asarray(im)\n",
    "    display(im)\n",
    "    return a\n",
    "\n",
    "def make_line(a, gap, target_color):\n",
    "    dotted_line = []\n",
    "    head = None\n",
    "    for i in range(len(a) - 1):\n",
    "        if head is None and a[i] == target_color:\n",
    "            head = i\n",
    "        if head is not None and a[i + 1] != target_color:\n",
    "            tail = i\n",
    "            dotted_line += [(head * gap, (tail + 1) * gap)]\n",
    "            head = None\n",
    "        if i == len(a) - 2 and a[i + 1] == target_color:\n",
    "            if head is None:\n",
    "                head = i + 1\n",
    "            tail = i + 1\n",
    "            dotted_line += [(head * gap, (tail + 1) * gap)]\n",
    "    return dotted_line\n",
    "\n",
    "\n",
    "def make_lines(a, gap=1, target_color=False):\n",
    "    dotted_lines = []\n",
    "    for a_ in a:\n",
    "        dotted_lines += [make_line(a_, gap, target_color)]\n",
    "    return dotted_lines\n",
    "  \n",
    "def image_to_lines(path='', url=None):\n",
    "    if url is not None:\n",
    "        im = get_image_from_url(url)\n",
    "    else:\n",
    "        im = Image.open(path)\n",
    "    print('原圖：')\n",
    "    display(im)\n",
    "    print('處理後：')\n",
    "    a = preprocess(im)\n",
    "    lines = make_lines(a)\n",
    "    return lines"
   ]
  },
  {
   "cell_type": "code",
   "execution_count": 24,
   "metadata": {},
   "outputs": [],
   "source": [
    "from selenium.webdriver.common.action_chains import ActionChains\n",
    "\n",
    "def draw(driver, elem, lines, xoffset=10, yoffset=10, gap=1, line_height=None):\n",
    "    if line_height is None:\n",
    "        line_height = gap\n",
    "\n",
    "    action = ActionChains(driver)\n",
    "    action.w3c_actions.pointer_action._duration = 1\n",
    "    for i, line in enumerate(lines):\n",
    "        # print(line)\n",
    "        for seg in line:\n",
    "            action.move_to_element_with_offset(\n",
    "                elem, xoffset + seg[0] * gap, yoffset + i * line_height\n",
    "            )\n",
    "            action.click_and_hold()\n",
    "            action.move_to_element_with_offset(\n",
    "                elem, xoffset + seg[1] * gap, yoffset + i * line_height\n",
    "            )\n",
    "            action.release()\n",
    "    action.perform()"
   ]
  },
  {
   "cell_type": "code",
   "execution_count": 25,
   "metadata": {},
   "outputs": [
    {
     "name": "stdout",
     "output_type": "stream",
     "text": [
      "\n"
     ]
    },
    {
     "name": "stderr",
     "output_type": "stream",
     "text": [
      "[WDM] - ====== WebDriver manager ======\n",
      "[WDM] - Current google-chrome version is 102.0.5005\n",
      "[WDM] - Get LATEST chromedriver version for 102.0.5005 google-chrome\n",
      "[WDM] - Driver [C:\\Users\\Asus\\.wdm\\drivers\\chromedriver\\win32\\102.0.5005.61\\chromedriver.exe] found in cache\n",
      "C:\\Users\\Asus\\AppData\\Local\\Temp\\ipykernel_19060\\4139287074.py:14: DeprecationWarning: executable_path has been deprecated, please pass in a Service object\n",
      "  driver = webdriver.Chrome(ChromeDriverManager().install(), options=options)\n"
     ]
    },
    {
     "name": "stdout",
     "output_type": "stream",
     "text": [
      "Chrome Browser Invoked\n"
     ]
    }
   ],
   "source": [
    "# 啟動 Chrome 必須先下載 Chrome 驅動器(https://sites.google.com/chromium.org/driver/)\n",
    "# 將 Chrome 驅動器放置同路徑下，或設定於系統環境變數中的 Path\n",
    "from webdriver_manager.chrome import ChromeDriverManager\n",
    "from selenium.webdriver.chrome.options import Options\n",
    "from selenium import webdriver\n",
    "from selenium.webdriver.common.action_chains import ActionChains\n",
    "from selenium.webdriver.support.ui import WebDriverWait\n",
    "from selenium.webdriver.common.by import By\n",
    "from selenium.webdriver.common.keys import Keys\n",
    "from selenium.webdriver.support import expected_conditions as EC\n",
    "from base64 import b64decode\n",
    "\n",
    "options = Options()\n",
    "options.add_extension(\"uBlock-Origin.crx\")\n",
    "driver = webdriver.Chrome(ChromeDriverManager().install(), options=options)\n",
    "driver.get(\"https://gartic.io/\")\n",
    "\n",
    "print(\"Chrome Browser Invoked\")\n"
   ]
  },
  {
   "cell_type": "code",
   "execution_count": 32,
   "metadata": {},
   "outputs": [
    {
     "name": "stdout",
     "output_type": "stream",
     "text": [
      "無人駕駛飛機\n"
     ]
    }
   ],
   "source": [
    "# 找出題目\n",
    "from bs4 import BeautifulSoup\n",
    "soup = BeautifulSoup(driver.page_source, 'html.parser')\n",
    "titles = soup.find(\"div\", class_=\"word\")\n",
    "keyword = titles.text\n",
    "print('題目:', keyword)"
   ]
  },
  {
   "cell_type": "code",
   "execution_count": 33,
   "metadata": {},
   "outputs": [
    {
     "name": "stderr",
     "output_type": "stream",
     "text": [
      "C:\\Users\\Asus\\AppData\\Local\\Temp\\ipykernel_19060\\2468387551.py:6: DeprecationWarning: find_element_by_class_name is deprecated. Please use find_element(by=By.CLASS_NAME, value=name) instead\n",
      "  driver.find_element_by_class_name(\"gLFyf.gsfi\").send_keys(titles.text)\n",
      "C:\\Users\\Asus\\AppData\\Local\\Temp\\ipykernel_19060\\2468387551.py:7: DeprecationWarning: find_element_by_class_name is deprecated. Please use find_element(by=By.CLASS_NAME, value=name) instead\n",
      "  driver.find_element_by_class_name(\"Tg7LZd\").click()\n"
     ]
    }
   ],
   "source": [
    "# 開啟新分頁(圖片搜尋頁面)\n",
    "google_image_url = (\n",
    "    \"https://images.google.com\"  # step1: setup url1 you want to visit in new page\n",
    ")\n",
    "strScript = 'window.open(\"' + google_image_url + '\");'\n",
    "driver.execute_script(strScript)\n",
    "driver.switch_to.window(driver.window_handles[1])\n",
    "driver.find_element(By.CLASS_NAME, \"gLFyf.gsfi\").send_keys(\"cat\",Keys.ENTER)\n"
   ]
  },
  {
   "cell_type": "code",
   "execution_count": 34,
   "metadata": {},
   "outputs": [],
   "source": [
    "driver.find_element(By.XPATH, '/html/body/div[2]/c-wiz/div[3]/div[1]/div/div/div/div[1]/div[1]/span/div[1]/div[1]/div[1]').click()\n",
    "image_src = driver.find_element(By.XPATH, '/html/body/div[2]/c-wiz/div[3]/div[2]/div[3]/div/div/div[3]/div[2]/c-wiz/div/div[1]/div[1]/div[3]/div/a/img').get_attribute('src')\n",
    "\n",
    "soup2 = BeautifulSoup(driver.page_source, 'html.parser')\n",
    "temp = soup2.find_all('img')\n",
    "# temp[3]以前都怪怪的，3以後都可以\n",
    "header, encoded = temp[35][\"src\"].split(\",\", 1)\n",
    "data = b64decode(encoded)\n",
    "\n",
    "with open(\"image.jpg\", \"wb\") as f:\n",
    "    f.write(data)\n",
    "\n",
    "# 切回原本頁面(遊戲頁面)\n",
    "driver.switch_to.window(driver.window_handles[0])"
   ]
  },
  {
   "cell_type": "code",
   "execution_count": 35,
   "metadata": {},
   "outputs": [],
   "source": [
    "wait = WebDriverWait(driver, 10)\n",
    "elem = wait.until(EC.element_to_be_clickable((By.TAG_NAME, \"canvas\")))"
   ]
  },
  {
   "cell_type": "code",
   "execution_count": 36,
   "metadata": {},
   "outputs": [
    {
     "data": {
      "image/png": "[encoded data removed]",
      "text/plain": [
       "<PIL.Image.Image image mode=1 size=100x100>"
      ]
     },
     "metadata": {},
     "output_type": "display_data"
    }
   ],
   "source": [
    "if elem:\n",
    "  lines = image_to_lines(path=\"image.jpg\")\n",
    "  draw(driver=driver, elem=elem, lines=lines, gap=3)"
   ]
  },
  {
   "cell_type": "code",
   "execution_count": null,
   "metadata": {},
   "outputs": [],
   "source": []
  }
 ],
 "metadata": {
  "interpreter": {
   "hash": "3388d4becb0b7b2c647f4ed9bc153097cdd171d9146daa00b68961af22f570c0"
  },
  "kernelspec": {
   "display_name": "Python 3.10.4 ('venv': venv)",
   "language": "python",
   "name": "python3"
  },
  "language_info": {
   "codemirror_mode": {
    "name": "ipython",
    "version": 3
   },
   "file_extension": ".py",
   "mimetype": "text/x-python",
   "name": "python",
   "nbconvert_exporter": "python",
   "pygments_lexer": "ipython3",
   "version": "3.10.4"
  },
  "orig_nbformat": 4
 },
 "nbformat": 4,
 "nbformat_minor": 2
}
