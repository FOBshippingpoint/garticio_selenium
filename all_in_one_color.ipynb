{
 "cells": [
  {
   "cell_type": "code",
   "execution_count": 140,
   "metadata": {},
   "outputs": [],
   "source": [
    "from PIL import Image, ImageFilter, ImageOps\n",
    "from IPython.display import display\n",
    "import numpy as np\n",
    "import requests\n",
    "from colormath.color_objects import sRGBColor, LabColor\n",
    "from colormath.color_conversions import convert_color\n",
    "from colormath.color_diff import delta_e_cie2000\n",
    "\n",
    "colors = [\n",
    "    (0, 0, 0),\n",
    "    (102, 102, 102),\n",
    "    (0, 23, 246),\n",
    "    (255, 255, 255),\n",
    "    (170, 170, 170),\n",
    "    (38, 201, 255),\n",
    "    (0, 141, 38),\n",
    "    (169, 35, 12),\n",
    "    (150, 65, 18),\n",
    "    (0, 255, 77),\n",
    "    (255, 0, 19),\n",
    "    (255, 120, 41),\n",
    "    (176, 112, 28),\n",
    "    (153, 0, 78),\n",
    "    (147, 104, 103),\n",
    "    (255, 201, 38),\n",
    "    (255, 0, 143),\n",
    "    (254, 175, 168),\n",
    "    (0, 217, 163),\n",
    "    (133, 178, 0),\n",
    "    (128, 0, 255),\n",
    "    (5, 44, 108),\n",
    "    (185, 115, 255),\n",
    "    (255, 247, 63),\n",
    "]\n",
    "\n",
    "\n",
    "def color_diff(rgb1, rgb2):\n",
    "    color1_rgb = sRGBColor(*rgb1, is_upscaled=True)\n",
    "    color2_rgb = sRGBColor(*rgb2, is_upscaled=True)\n",
    "    color1_lab = convert_color(color1_rgb, LabColor)\n",
    "    color2_lab = convert_color(color2_rgb, LabColor)\n",
    "    delta_e = delta_e_cie2000(color1_lab, color2_lab)\n",
    "    return delta_e\n",
    "\n",
    "\n",
    "def resize_based_on_width(im, basewidth=50):\n",
    "    wpercent = basewidth / float(im.size[0])\n",
    "    hsize = int((float(im.size[1]) * float(wpercent)))\n",
    "    im = im.resize((basewidth, hsize), Image.Resampling.NEAREST)\n",
    "    return im\n",
    "\n",
    "\n",
    "def preprocess(im):\n",
    "    print(\"原圖：\")\n",
    "    display(im)\n",
    "    print(\"縮放後：\")\n",
    "    im = resize_based_on_width(im)\n",
    "    display(im)\n",
    "    print(\"色彩量化：\")\n",
    "    im = im.quantize(18)\n",
    "    display(im)\n",
    "    im = im.convert(\"RGB\")\n",
    "    a = np.asarray(im)\n",
    "    return a\n",
    "\n",
    "\n",
    "color_id_map = {}\n",
    "\n",
    "\n",
    "def make_line(a):\n",
    "    line = []\n",
    "    head = None\n",
    "    for i in range(len(a) - 1):\n",
    "        if i == 0:\n",
    "            head = i\n",
    "        else:\n",
    "            if (a[i] != a[i + 1]).all():\n",
    "                tail = i\n",
    "\n",
    "                min_color_id = None\n",
    "                if tuple(a[i]) not in color_id_map:\n",
    "                    for j in range(len(colors)):\n",
    "                        delta = color_diff(a[i], colors[j])\n",
    "                        if min_color_id is None:\n",
    "                            min_color_id = j\n",
    "                            min_delta = delta\n",
    "                        else:\n",
    "                            if delta < min_delta:\n",
    "                                min_color_id = j\n",
    "                                min_delta = delta\n",
    "                    color_id_map[tuple(a[i])] = min_color_id\n",
    "                else:\n",
    "                    min_color_id = color_id_map[tuple(a[i])]\n",
    "\n",
    "                line += [(head, tail, min_color_id)]\n",
    "                # next\n",
    "                head = i + 1\n",
    "    return line\n",
    "\n",
    "\n",
    "def make_lines(a):\n",
    "    lines = []\n",
    "    for a_ in a:\n",
    "        lines += [make_line(a_)]\n",
    "    return lines\n",
    "\n",
    "\n",
    "# im = Image.open(\"test4.jpg\")\n",
    "# # print(preprocess(im))\n",
    "# lines = make_lines(preprocess(im))\n",
    "# print(lines)\n"
   ]
  },
  {
   "cell_type": "code",
   "execution_count": 141,
   "metadata": {},
   "outputs": [],
   "source": [
    "from selenium.webdriver.common.action_chains import ActionChains\n",
    "\n",
    "def draw(driver, elem, lines, xoffset=10, yoffset=10, gap=1, line_height=None):\n",
    "    if line_height is None:\n",
    "        line_height = gap\n",
    "\n",
    "    action = ActionChains(driver)\n",
    "    action.w3c_actions.pointer_action._duration = 1\n",
    "    for i, line in enumerate(lines):\n",
    "        # print(line)\n",
    "        for seg in line:\n",
    "            action.click(driver.find_element(By.XPATH, f'/html/body/div[2]/div/div[2]/div[1]/div/div/div[1]/div[2]/div/div[2]/div[1]/div[{seg[2] + 1}]'))\n",
    "            action.move_to_element_with_offset(\n",
    "                elem, xoffset + seg[0] * gap, yoffset + i * line_height\n",
    "            )\n",
    "            if seg[0] == seg[1]:\n",
    "                action.click()\n",
    "            else:\n",
    "                action.click_and_hold()\n",
    "                action.move_to_element_with_offset(\n",
    "                    elem, xoffset + seg[1] * gap, yoffset + i * line_height\n",
    "                )\n",
    "                action.release()\n",
    "        action.perform()"
   ]
  },
  {
   "cell_type": "code",
   "execution_count": 142,
   "metadata": {},
   "outputs": [
    {
     "name": "stdout",
     "output_type": "stream",
     "text": [
      "\n"
     ]
    },
    {
     "name": "stderr",
     "output_type": "stream",
     "text": [
      "[WDM] - ====== WebDriver manager ======\n",
      "[WDM] - Current google-chrome version is 102.0.5005\n",
      "[WDM] - Get LATEST chromedriver version for 102.0.5005 google-chrome\n",
      "[WDM] - Driver [C:\\Users\\Asus\\.wdm\\drivers\\chromedriver\\win32\\102.0.5005.61\\chromedriver.exe] found in cache\n",
      "C:\\Users\\Asus\\AppData\\Local\\Temp\\ipykernel_26456\\1511601557.py:17: DeprecationWarning: executable_path has been deprecated, please pass in a Service object\n",
      "  driver = webdriver.Chrome(ChromeDriverManager().install(), options=options)\n"
     ]
    },
    {
     "name": "stdout",
     "output_type": "stream",
     "text": [
      "Chrome Browser Invoked\n"
     ]
    }
   ],
   "source": [
    "# 啟動 Chrome 必須先下載 Chrome 驅動器(https://sites.google.com/chromium.org/driver/)\n",
    "# 將 Chrome 驅動器放置同路徑下，或設定於系統環境變數中的 Path\n",
    "from webdriver_manager.chrome import ChromeDriverManager\n",
    "from selenium.webdriver.chrome.options import Options\n",
    "from selenium import webdriver\n",
    "from selenium.webdriver.common.action_chains import ActionChains\n",
    "from selenium.webdriver.support.ui import WebDriverWait\n",
    "from selenium.webdriver.common.by import By\n",
    "from selenium.webdriver.common.keys import Keys\n",
    "from selenium.webdriver.support import expected_conditions as EC\n",
    "from base64 import b64decode\n",
    "from bs4 import BeautifulSoup\n",
    "import os\n",
    "\n",
    "options = Options()\n",
    "options.add_extension(\"uBlock-Origin.crx\")\n",
    "driver = webdriver.Chrome(ChromeDriverManager().install(), options=options)\n",
    "driver.get(\"https://gartic.io/\")\n",
    "\n",
    "print(\"Chrome Browser Invoked\")\n"
   ]
  },
  {
   "cell_type": "code",
   "execution_count": 151,
   "metadata": {},
   "outputs": [
    {
     "name": "stdout",
     "output_type": "stream",
     "text": [
      "題目：植物\n"
     ]
    }
   ],
   "source": [
    "# 找出題目\n",
    "driver.switch_to.window(driver.window_handles[0])\n",
    "soup = BeautifulSoup(driver.page_source, \"html.parser\")\n",
    "titles = soup.find(\"div\", class_=\"word\")\n",
    "keyword = titles.text\n",
    "print(\"題目：\" + keyword)\n",
    "# 開啟新分頁(圖片搜尋頁面)\n",
    "google_image_url = \"https://images.google.com\"\n",
    "strScript = 'window.open(\"' + google_image_url + '\");'\n",
    "driver.execute_script(strScript)\n",
    "driver.switch_to.window(driver.window_handles[1])\n",
    "driver.find_element(By.CLASS_NAME, \"gLFyf.gsfi\").send_keys(keyword + \"卡通\", Keys.ENTER)\n"
   ]
  },
  {
   "cell_type": "code",
   "execution_count": 153,
   "metadata": {},
   "outputs": [
    {
     "name": "stderr",
     "output_type": "stream",
     "text": [
      "C:\\Users\\Asus\\AppData\\Local\\Temp\\ipykernel_26456\\440750292.py:2: DeprecationWarning: find_element_by_xpath is deprecated. Please use find_element(by=By.XPATH, value=xpath) instead\n",
      "  img = driver.find_element_by_xpath('//*[@id=\"islrg\"]/div[1]/div[' + str(i) + ']/a[1]/div[1]/img')\n"
     ]
    }
   ],
   "source": [
    "# 儲存圖片\n",
    "for i in range(1,2):\n",
    "    img = driver.find_element_by_xpath('//*[@id=\"islrg\"]/div[1]/div[' + str(i) + ']/a[1]/div[1]/img')\n",
    "    img.screenshot('image.jpg')\n",
    "    print('儲存圖片(image.jpg)：')\n",
    "    display(Image.open('image.jpg'))"
   ]
  },
  {
   "cell_type": "code",
   "execution_count": 155,
   "metadata": {},
   "outputs": [
    {
     "ename": "InvalidSessionIdException",
     "evalue": "Message: invalid session id\nStacktrace:\nBacktrace:\n\tOrdinal0 [0x00C9D953+2414931]\n\tOrdinal0 [0x00C2F5E1+1963489]\n\tOrdinal0 [0x00B1C580+836992]\n\tOrdinal0 [0x00B3E53D+976189]\n\tOrdinal0 [0x00B3F756+980822]\n\tGetHandleVerifier [0x00F0CC62+2510274]\n\tGetHandleVerifier [0x00EFF760+2455744]\n\tGetHandleVerifier [0x00D2EABA+551962]\n\tGetHandleVerifier [0x00D2D916+547446]\n\tOrdinal0 [0x00C35F3B+1990459]\n\tOrdinal0 [0x00C3A898+2009240]\n\tOrdinal0 [0x00C3A985+2009477]\n\tOrdinal0 [0x00C43AD1+2046673]\n\tBaseThreadInitThunk [0x76106739+25]\n\tRtlGetFullPathName_UEx [0x77D48FEF+1215]\n\tRtlGetFullPathName_UEx [0x77D48FBD+1165]\n",
     "output_type": "error",
     "traceback": [
      "\u001b[1;31m---------------------------------------------------------------------------\u001b[0m",
      "\u001b[1;31mInvalidSessionIdException\u001b[0m                 Traceback (most recent call last)",
      "\u001b[1;32md:\\workspace\\py\\garticio_selenium\\all_in_one_color.ipynb Cell 7'\u001b[0m in \u001b[0;36m<cell line: 3>\u001b[1;34m()\u001b[0m\n\u001b[0;32m      <a href='vscode-notebook-cell:/d%3A/workspace/py/garticio_selenium/all_in_one_color.ipynb#ch0000009?line=0'>1</a>\u001b[0m \u001b[39m# 畫畫\u001b[39;00m\n\u001b[0;32m      <a href='vscode-notebook-cell:/d%3A/workspace/py/garticio_selenium/all_in_one_color.ipynb#ch0000009?line=1'>2</a>\u001b[0m driver\u001b[39m.\u001b[39mclose()\n\u001b[1;32m----> <a href='vscode-notebook-cell:/d%3A/workspace/py/garticio_selenium/all_in_one_color.ipynb#ch0000009?line=2'>3</a>\u001b[0m driver\u001b[39m.\u001b[39mswitch_to\u001b[39m.\u001b[39mwindow(driver\u001b[39m.\u001b[39;49mwindow_handles[\u001b[39m0\u001b[39m])\n\u001b[0;32m      <a href='vscode-notebook-cell:/d%3A/workspace/py/garticio_selenium/all_in_one_color.ipynb#ch0000009?line=4'>5</a>\u001b[0m wait \u001b[39m=\u001b[39m WebDriverWait(driver, \u001b[39m999999\u001b[39m, \u001b[39m0.5\u001b[39m)\n\u001b[0;32m      <a href='vscode-notebook-cell:/d%3A/workspace/py/garticio_selenium/all_in_one_color.ipynb#ch0000009?line=5'>6</a>\u001b[0m element \u001b[39m=\u001b[39m wait\u001b[39m.\u001b[39muntil(EC\u001b[39m.\u001b[39mpresence_of_all_elements_located((By\u001b[39m.\u001b[39mCLASS_NAME, \u001b[39m\"\u001b[39m\u001b[39mhint\u001b[39m\u001b[39m\"\u001b[39m)))\n",
      "File \u001b[1;32md:\\workspace\\py\\garticio_selenium\\venv\\lib\\site-packages\\selenium\\webdriver\\remote\\webdriver.py:982\u001b[0m, in \u001b[0;36mWebDriver.window_handles\u001b[1;34m(self)\u001b[0m\n\u001b[0;32m    <a href='file:///d%3A/workspace/py/garticio_selenium/venv/lib/site-packages/selenium/webdriver/remote/webdriver.py?line=971'>972</a>\u001b[0m \u001b[39m@property\u001b[39m\n\u001b[0;32m    <a href='file:///d%3A/workspace/py/garticio_selenium/venv/lib/site-packages/selenium/webdriver/remote/webdriver.py?line=972'>973</a>\u001b[0m \u001b[39mdef\u001b[39;00m \u001b[39mwindow_handles\u001b[39m(\u001b[39mself\u001b[39m) \u001b[39m-\u001b[39m\u001b[39m>\u001b[39m List[\u001b[39mstr\u001b[39m]:\n\u001b[0;32m    <a href='file:///d%3A/workspace/py/garticio_selenium/venv/lib/site-packages/selenium/webdriver/remote/webdriver.py?line=973'>974</a>\u001b[0m     \u001b[39m\"\"\"\u001b[39;00m\n\u001b[0;32m    <a href='file:///d%3A/workspace/py/garticio_selenium/venv/lib/site-packages/selenium/webdriver/remote/webdriver.py?line=974'>975</a>\u001b[0m \u001b[39m    Returns the handles of all windows within the current session.\u001b[39;00m\n\u001b[0;32m    <a href='file:///d%3A/workspace/py/garticio_selenium/venv/lib/site-packages/selenium/webdriver/remote/webdriver.py?line=975'>976</a>\u001b[0m \n\u001b[1;32m   (...)\u001b[0m\n\u001b[0;32m    <a href='file:///d%3A/workspace/py/garticio_selenium/venv/lib/site-packages/selenium/webdriver/remote/webdriver.py?line=979'>980</a>\u001b[0m \u001b[39m            driver.window_handles\u001b[39;00m\n\u001b[0;32m    <a href='file:///d%3A/workspace/py/garticio_selenium/venv/lib/site-packages/selenium/webdriver/remote/webdriver.py?line=980'>981</a>\u001b[0m \u001b[39m    \"\"\"\u001b[39;00m\n\u001b[1;32m--> <a href='file:///d%3A/workspace/py/garticio_selenium/venv/lib/site-packages/selenium/webdriver/remote/webdriver.py?line=981'>982</a>\u001b[0m     \u001b[39mreturn\u001b[39;00m \u001b[39mself\u001b[39;49m\u001b[39m.\u001b[39;49mexecute(Command\u001b[39m.\u001b[39;49mW3C_GET_WINDOW_HANDLES)[\u001b[39m'\u001b[39m\u001b[39mvalue\u001b[39m\u001b[39m'\u001b[39m]\n",
      "File \u001b[1;32md:\\workspace\\py\\garticio_selenium\\venv\\lib\\site-packages\\selenium\\webdriver\\remote\\webdriver.py:430\u001b[0m, in \u001b[0;36mWebDriver.execute\u001b[1;34m(self, driver_command, params)\u001b[0m\n\u001b[0;32m    <a href='file:///d%3A/workspace/py/garticio_selenium/venv/lib/site-packages/selenium/webdriver/remote/webdriver.py?line=427'>428</a>\u001b[0m response \u001b[39m=\u001b[39m \u001b[39mself\u001b[39m\u001b[39m.\u001b[39mcommand_executor\u001b[39m.\u001b[39mexecute(driver_command, params)\n\u001b[0;32m    <a href='file:///d%3A/workspace/py/garticio_selenium/venv/lib/site-packages/selenium/webdriver/remote/webdriver.py?line=428'>429</a>\u001b[0m \u001b[39mif\u001b[39;00m response:\n\u001b[1;32m--> <a href='file:///d%3A/workspace/py/garticio_selenium/venv/lib/site-packages/selenium/webdriver/remote/webdriver.py?line=429'>430</a>\u001b[0m     \u001b[39mself\u001b[39;49m\u001b[39m.\u001b[39;49merror_handler\u001b[39m.\u001b[39;49mcheck_response(response)\n\u001b[0;32m    <a href='file:///d%3A/workspace/py/garticio_selenium/venv/lib/site-packages/selenium/webdriver/remote/webdriver.py?line=430'>431</a>\u001b[0m     response[\u001b[39m'\u001b[39m\u001b[39mvalue\u001b[39m\u001b[39m'\u001b[39m] \u001b[39m=\u001b[39m \u001b[39mself\u001b[39m\u001b[39m.\u001b[39m_unwrap_value(\n\u001b[0;32m    <a href='file:///d%3A/workspace/py/garticio_selenium/venv/lib/site-packages/selenium/webdriver/remote/webdriver.py?line=431'>432</a>\u001b[0m         response\u001b[39m.\u001b[39mget(\u001b[39m'\u001b[39m\u001b[39mvalue\u001b[39m\u001b[39m'\u001b[39m, \u001b[39mNone\u001b[39;00m))\n\u001b[0;32m    <a href='file:///d%3A/workspace/py/garticio_selenium/venv/lib/site-packages/selenium/webdriver/remote/webdriver.py?line=432'>433</a>\u001b[0m     \u001b[39mreturn\u001b[39;00m response\n",
      "File \u001b[1;32md:\\workspace\\py\\garticio_selenium\\venv\\lib\\site-packages\\selenium\\webdriver\\remote\\errorhandler.py:247\u001b[0m, in \u001b[0;36mErrorHandler.check_response\u001b[1;34m(self, response)\u001b[0m\n\u001b[0;32m    <a href='file:///d%3A/workspace/py/garticio_selenium/venv/lib/site-packages/selenium/webdriver/remote/errorhandler.py?line=244'>245</a>\u001b[0m         alert_text \u001b[39m=\u001b[39m value[\u001b[39m'\u001b[39m\u001b[39malert\u001b[39m\u001b[39m'\u001b[39m]\u001b[39m.\u001b[39mget(\u001b[39m'\u001b[39m\u001b[39mtext\u001b[39m\u001b[39m'\u001b[39m)\n\u001b[0;32m    <a href='file:///d%3A/workspace/py/garticio_selenium/venv/lib/site-packages/selenium/webdriver/remote/errorhandler.py?line=245'>246</a>\u001b[0m     \u001b[39mraise\u001b[39;00m exception_class(message, screen, stacktrace, alert_text)  \u001b[39m# type: ignore[call-arg]  # mypy is not smart enough here\u001b[39;00m\n\u001b[1;32m--> <a href='file:///d%3A/workspace/py/garticio_selenium/venv/lib/site-packages/selenium/webdriver/remote/errorhandler.py?line=246'>247</a>\u001b[0m \u001b[39mraise\u001b[39;00m exception_class(message, screen, stacktrace)\n",
      "\u001b[1;31mInvalidSessionIdException\u001b[0m: Message: invalid session id\nStacktrace:\nBacktrace:\n\tOrdinal0 [0x00C9D953+2414931]\n\tOrdinal0 [0x00C2F5E1+1963489]\n\tOrdinal0 [0x00B1C580+836992]\n\tOrdinal0 [0x00B3E53D+976189]\n\tOrdinal0 [0x00B3F756+980822]\n\tGetHandleVerifier [0x00F0CC62+2510274]\n\tGetHandleVerifier [0x00EFF760+2455744]\n\tGetHandleVerifier [0x00D2EABA+551962]\n\tGetHandleVerifier [0x00D2D916+547446]\n\tOrdinal0 [0x00C35F3B+1990459]\n\tOrdinal0 [0x00C3A898+2009240]\n\tOrdinal0 [0x00C3A985+2009477]\n\tOrdinal0 [0x00C43AD1+2046673]\n\tBaseThreadInitThunk [0x76106739+25]\n\tRtlGetFullPathName_UEx [0x77D48FEF+1215]\n\tRtlGetFullPathName_UEx [0x77D48FBD+1165]\n"
     ]
    }
   ],
   "source": [
    "# 畫畫\n",
    "driver.close()\n",
    "driver.switch_to.window(driver.window_handles[0])\n",
    "\n",
    "wait = WebDriverWait(driver, 999999, 0.5)\n",
    "element = wait.until(EC.presence_of_all_elements_located((By.CLASS_NAME, \"hint\")))\n",
    "wait = WebDriverWait(driver, 999999, 0.5)\n",
    "elem = wait.until(EC.element_to_be_clickable((By.TAG_NAME, \"canvas\")))\n",
    "\n",
    "with Image.open(\"image.jpg\") as im:\n",
    "    if elem:\n",
    "        a = preprocess(im)\n",
    "        lines = make_lines(a)\n",
    "        draw(driver=driver, elem=elem, lines=lines, gap=3.5, xoffset=100, yoffset=100)"
   ]
  },
  {
   "cell_type": "code",
   "execution_count": null,
   "metadata": {},
   "outputs": [],
   "source": []
  }
 ],
 "metadata": {
  "interpreter": {
   "hash": "3388d4becb0b7b2c647f4ed9bc153097cdd171d9146daa00b68961af22f570c0"
  },
  "kernelspec": {
   "display_name": "Python 3.10.4 ('venv': venv)",
   "language": "python",
   "name": "python3"
  },
  "language_info": {
   "codemirror_mode": {
    "name": "ipython",
    "version": 3
   },
   "file_extension": ".py",
   "mimetype": "text/x-python",
   "name": "python",
   "nbconvert_exporter": "python",
   "pygments_lexer": "ipython3",
   "version": "3.10.4"
  },
  "orig_nbformat": 4
 },
 "nbformat": 4,
 "nbformat_minor": 2
}
