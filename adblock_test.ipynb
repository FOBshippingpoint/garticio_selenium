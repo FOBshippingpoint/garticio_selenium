{
 "cells": [
  {
   "cell_type": "code",
   "execution_count": 3,
   "metadata": {},
   "outputs": [
    {
     "name": "stdout",
     "output_type": "stream",
     "text": [
      "\n"
     ]
    },
    {
     "name": "stderr",
     "output_type": "stream",
     "text": [
      "[WDM] - ====== WebDriver manager ======\n",
      "[WDM] - Current google-chrome version is 102.0.5005\n",
      "[WDM] - Get LATEST chromedriver version for 102.0.5005 google-chrome\n",
      "[WDM] - Driver [C:\\Users\\Asus\\.wdm\\drivers\\chromedriver\\win32\\102.0.5005.61\\chromedriver.exe] found in cache\n",
      "C:\\Users\\Asus\\AppData\\Local\\Temp\\ipykernel_31668\\2355468973.py:19: DeprecationWarning: executable_path has been deprecated, please pass in a Service object\n",
      "  driver = webdriver.Chrome(ChromeDriverManager().install(), options=options)\n"
     ]
    },
    {
     "name": "stdout",
     "output_type": "stream",
     "text": [
      "Chrome Browser Invoked\n"
     ]
    }
   ],
   "source": [
    "# 啟動 Chrome 必須先下載 Chrome 驅動器(https://sites.google.com/chromium.org/driver/)\n",
    "# 將 Chrome 驅動器放置同路徑下，或設定於系統環境變數中的 Path\n",
    "from webdriver_manager.chrome import ChromeDriverManager\n",
    "from selenium.webdriver.chrome.options import Options\n",
    "from selenium import webdriver\n",
    "from selenium.webdriver.common.action_chains import ActionChains\n",
    "from selenium.webdriver.support.ui import WebDriverWait\n",
    "from selenium.webdriver.common.by import By\n",
    "from selenium.webdriver.support import expected_conditions as EC\n",
    "\n",
    "# from webdriver_manager.chrome import ChromeDriverManager\n",
    "\n",
    "\n",
    "from base64 import b64decode\n",
    "\n",
    "\n",
    "options = Options()\n",
    "options.add_extension(\"adblock.crx\")\n",
    "driver = webdriver.Chrome(ChromeDriverManager().install(), options=options)\n",
    "driver.get(\"https://gartic.io/\")\n",
    "\n",
    "print(\"Chrome Browser Invoked\")\n"
   ]
  },
  {
   "cell_type": "code",
   "execution_count": 4,
   "metadata": {},
   "outputs": [],
   "source": [
    "for handle in driver.window_handles:\n",
    "    driver.switch_to.window(handle)\n",
    "    if \"adblockplus\" in driver.current_url:\n",
    "        driver.close()"
   ]
  },
  {
   "cell_type": "code",
   "execution_count": null,
   "metadata": {},
   "outputs": [],
   "source": [
    "wait = WebDriverWait(driver, 10)\n",
    "elem = wait.until(EC.element_to_be_clickable((By.TAG_NAME, \"canvas\")))\n",
    "action = ActionChains(driver)\n",
    "action.w3c_actions.pointer_action._duration = 1"
   ]
  },
  {
   "cell_type": "code",
   "execution_count": 5,
   "metadata": {},
   "outputs": [],
   "source": [
    "def draw(driver, elem, lines, xoffset=10, yoffset=10, gap=1, line_height=None):\n",
    "    if line_height is None:\n",
    "        line_height = gap\n",
    "\n",
    "    action = ActionChains(driver)\n",
    "    action.w3c_actions.pointer_action._duration = 1\n",
    "    for i, line in enumerate(lines):\n",
    "        # print(line)\n",
    "        for seg in line:\n",
    "            action.move_to_element_with_offset(\n",
    "                elem, xoffset + seg[0] * gap, yoffset + i * line_height\n",
    "            )\n",
    "            action.click_and_hold()\n",
    "            action.move_to_element_with_offset(\n",
    "                elem, xoffset + seg[1] * gap, yoffset + i * line_height\n",
    "            )\n",
    "            action.release()\n",
    "    action.perform()\n"
   ]
  },
  {
   "cell_type": "code",
   "execution_count": null,
   "metadata": {},
   "outputs": [],
   "source": [
    "\n",
    "draw(driver, elem, )"
   ]
  }
 ],
 "metadata": {
  "interpreter": {
   "hash": "3388d4becb0b7b2c647f4ed9bc153097cdd171d9146daa00b68961af22f570c0"
  },
  "kernelspec": {
   "display_name": "Python 3.10.4 ('venv': venv)",
   "language": "python",
   "name": "python3"
  },
  "language_info": {
   "codemirror_mode": {
    "name": "ipython",
    "version": 3
   },
   "file_extension": ".py",
   "mimetype": "text/x-python",
   "name": "python",
   "nbconvert_exporter": "python",
   "pygments_lexer": "ipython3",
   "version": "3.10.4"
  },
  "orig_nbformat": 4
 },
 "nbformat": 4,
 "nbformat_minor": 2
}
